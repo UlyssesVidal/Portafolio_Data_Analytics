{
  "metadata": {
    "kernelspec": {
      "name": "ir",
      "display_name": "R"
    },
    "language_info": {
      "name": "R",
      "codemirror_mode": "r",
      "pygments_lexer": "r",
      "mimetype": "text/x-r-source",
      "file_extension": ".r",
      "version": "4.0.5"
    },
    "colab": {
      "provenance": []
    }
  },
  "nbformat_minor": 0,
  "nbformat": 4,
  "cells": [
    {
      "cell_type": "markdown",
      "source": [
        "# <u>**\"Informe del caso práctico del análisis de bicicletas compartidas Cyclistic\"**</u>\n",
        "# Ulysses Vidal\n",
        "# \"2023-08-29\""
      ],
      "metadata": {
        "id": "2etJ7xtr9HRR"
      }
    },
    {
      "cell_type": "markdown",
      "source": [
        "# **1. Definición del problema y Objetivos**\n",
        "\n",
        "## Introducción\n",
        "\n",
        "En este informe, realizaremos un análisis exploratorio de datos sobre un conjunto de datos una empresa de bicicletas compartidas de Chicago.\n",
        "\n",
        "El objetivo es comprender las diferencias entre los patrones de uso de los miembros anuales y los ciclistas ocasionales, para así desarrollar una estrategia de marketing que convierta a los ciclistas ocasionales en miembros anuales.\n",
        "\n",
        "##Escenario\n",
        "\n",
        "Eres un analista de datos júnior que trabaja en el equipo de analistas de marketing de Cyclistic, una empresa de bicicletas compartidas de Chicago. La directora de marketing cree que el éxito futuro de la empresa depende de maximizar la cantidad de membresías anuales.\n",
        "Por lo tanto, tu equipo quiere entender qué diferencias existen en el uso de las bicicletas Cyclistic entre los ciclistas ocasionales y los miembros anuales.\n",
        "A través de estos conocimientos, tu equipo diseñará una nueva estrategia de marketing para convertir a los ciclistas ocasionales en miembros anuales. Sin embargo, antes de eso, los ejecutivos de Cyclistic deben aprobar tus recomendaciones; por eso, debes respaldar tu propuesta con una visión convincente de los datos y visualizaciones profesionales de los mismos.\n",
        "\n",
        "\n",
        "Escenario\n",
        "Eres un analista de datos júnior que trabaja en el equipo de analistas de marketing de Cyclistic, una empresa de bicicletas compartidas de Chicago. La directora de marketing cree que el éxito futuro de la empresa depende de maximizar la cantidad de membresías anuales. Por lo tanto, tu equipo quiere entender qué diferencias existen en el uso de las bicicletas Cyclistic entre los ciclistas ocasionales y los miembros anuales. A través de estos conocimientos, tu equipo diseñará una nueva estrategia de marketing para convertir a los ciclistas ocasionales en miembros anuales. Sin embargo, antes de eso, los ejecutivos de Cyclistic deben aprobar tus recomendaciones; por eso, debes respaldar tu propuesta con una visión convincente de los datos y visualizaciones profesionales de los mismos.\n",
        "\n",
        "\n",
        "##Acerca de la empresa\n",
        "En 2016, Cyclistic lanzó una exitosa oferta de bicicletas compartidas. Desde entonces, el programa creció hasta alcanzar una flota de 5,824 bicicletas georreferenciadas y bloqueadas en una red de 692 estaciones en toda Chicago. Las bicicletas se pueden desbloquear desde una estación y devolverse en cualquier otra estación del sistema en cualquier momento.\n",
        "\n",
        "Hasta ahora, la estrategia de marketing de Cyclistic se basaba en la construcción de un reconocimiento de marca general y en atraer a amplios segmentos de consumidores. Uno de los enfoques que ayudó a hacer esto posible fue la flexibilidad de sus planes de precios: pases de un solo viaje, pases de un día completo y membresías anuales. A los clientes que compran pases de un solo viaje o pases de un día completo se los llama ciclistas ocasionales. Los clientes que compran membresías anuales se llaman miembros de Cyclistic.\n",
        "\n",
        "Los analistas financieros de Cyclistic llegaron a la conclusión de que los miembros anuales son mucho más rentables que los ciclistas ocasionales. Aunque la flexibilidad de precios ayuda a Cyclistic a atraer más clientes, Moreno cree que maximizar el número de miembros anuales será clave para el crecimiento futuro. En lugar de crear una campaña de marketing que apunte a todos los clientes nuevos, Moreno cree que hay muchas posibilidades de convertir a los ciclistas ocasionales en miembros. Ella señala que los ciclistas ocasionales ya conocen el programa de Cyclistic y han elegido a Cyclistic para sus necesidades de movilidad.\n",
        "\n",
        "Moreno estableció una meta clara: Diseñar estrategias de marketing orientadas a convertir a los ciclistas ocasionales en miembros anuales. Sin embargo, para hacer eso, el equipo de analistas de marketing **necesita entender mejor cómo difieren los miembros anuales y los ciclistas ocasionales, por qué los ciclistas ocasionales comprarían una membresía y cómo los medios digitales podrían afectar sus tácticas de marketing. Moreno y su equipo están interesados en analizar los datos históricos de viajes en bicicleta de Cyclistic para identificar tendencias.**\n",
        "\n",
        "\n",
        "\n"
      ],
      "metadata": {
        "id": "U3B-RZ9P9HRT"
      }
    },
    {
      "cell_type": "markdown",
      "source": [
        "# **2. Recolección y carga de datos**\n",
        "\n",
        "Conectar información, almacenarla y ponerla accesible a los usuarios."
      ],
      "metadata": {
        "id": "LyyPbAxFJjBO"
      }
    },
    {
      "cell_type": "markdown",
      "source": [
        "Comenzamos instalando los paquetes y llamando a las librerias"
      ],
      "metadata": {
        "id": "GAl_SedapIMC"
      }
    },
    {
      "cell_type": "code",
      "source": [
        "# Instalar el paquete readxl\n",
        "install.packages(\"readxl\")\n",
        "\n",
        "# Instalar el paquete dplyr\n",
        "install.packages(\"dplyr\")\n",
        "\n",
        "# Instalar el paquete tidyverse (esto incluye ggplot2 y dplyr, entre otros)\n",
        "install.packages(\"tidyverse\")\n",
        "\n",
        "# Instalar el paquete lubridate\n",
        "install.packages(\"lubridate\")\n",
        "\n",
        "# Instalar el paquete ggplot2 (si prefieres instalarlo por separado)\n",
        "install.packages(\"ggplot2\")\n",
        "\n",
        "#Instalar el paquete readr para leer el archivo\n",
        "install.packages(\"readr\")\n",
        "\n",
        "#Para crear gráfico de correlaciones\n",
        "install.packages(\"corrplot\")\n"
      ],
      "metadata": {
        "colab": {
          "base_uri": "https://localhost:8080/"
        },
        "id": "9c9-qCFp-RG5",
        "outputId": "89f56e2e-083b-4e0b-fb53-fc7a945fc6d8"
      },
      "execution_count": null,
      "outputs": [
        {
          "output_type": "stream",
          "name": "stderr",
          "text": [
            "Installing package into ‘/usr/local/lib/R/site-library’\n",
            "(as ‘lib’ is unspecified)\n",
            "\n",
            "Installing package into ‘/usr/local/lib/R/site-library’\n",
            "(as ‘lib’ is unspecified)\n",
            "\n",
            "Installing package into ‘/usr/local/lib/R/site-library’\n",
            "(as ‘lib’ is unspecified)\n",
            "\n",
            "Installing package into ‘/usr/local/lib/R/site-library’\n",
            "(as ‘lib’ is unspecified)\n",
            "\n",
            "Installing package into ‘/usr/local/lib/R/site-library’\n",
            "(as ‘lib’ is unspecified)\n",
            "\n",
            "Installing package into ‘/usr/local/lib/R/site-library’\n",
            "(as ‘lib’ is unspecified)\n",
            "\n",
            "Installing package into ‘/usr/local/lib/R/site-library’\n",
            "(as ‘lib’ is unspecified)\n",
            "\n"
          ]
        }
      ]
    },
    {
      "cell_type": "code",
      "source": [
        "library(readxl)\n",
        "library(dplyr)\n",
        "library(tidyverse)\n",
        "library(lubridate)\n",
        "library(ggplot2)\n",
        "library(readr)"
      ],
      "metadata": {
        "id": "orodQg3ULT1H"
      },
      "execution_count": null,
      "outputs": []
    },
    {
      "cell_type": "markdown",
      "source": [
        "Luego, empezamos importando los archivos:"
      ],
      "metadata": {
        "id": "MSjchRYHpRT2"
      }
    },
    {
      "cell_type": "markdown",
      "source": [
        "/content/sample_data"
      ],
      "metadata": {
        "id": "I0YgKuFrI800"
      }
    },
    {
      "cell_type": "code",
      "source": [
        "datos <- read.csv(\"/content/sample_data/2022_2023-divvy-tripdata..csv\", sep = \";\")\n",
        "head(datos)"
      ],
      "metadata": {
        "trusted": true,
        "colab": {
          "base_uri": "https://localhost:8080/",
          "height": 286
        },
        "id": "GFA8kCvS9HRV",
        "outputId": "fb7adadc-019f-4d05-9ce7-4e87374c04aa"
      },
      "execution_count": null,
      "outputs": [
        {
          "output_type": "display_data",
          "data": {
            "text/html": [
              "<table class=\"dataframe\">\n",
              "<caption>A data.frame: 6 × 14</caption>\n",
              "<thead>\n",
              "\t<tr><th></th><th scope=col>ride_id</th><th scope=col>rideable_type</th><th scope=col>started_at</th><th scope=col>ended_at</th><th scope=col>start_station_name</th><th scope=col>start_station_id</th><th scope=col>end_station_name</th><th scope=col>end_station_id</th><th scope=col>start_lat</th><th scope=col>start_lng</th><th scope=col>end_lat</th><th scope=col>end_lng</th><th scope=col>member_casual</th><th scope=col>ride_length</th></tr>\n",
              "\t<tr><th></th><th scope=col>&lt;chr&gt;</th><th scope=col>&lt;chr&gt;</th><th scope=col>&lt;chr&gt;</th><th scope=col>&lt;chr&gt;</th><th scope=col>&lt;chr&gt;</th><th scope=col>&lt;chr&gt;</th><th scope=col>&lt;chr&gt;</th><th scope=col>&lt;chr&gt;</th><th scope=col>&lt;chr&gt;</th><th scope=col>&lt;chr&gt;</th><th scope=col>&lt;chr&gt;</th><th scope=col>&lt;chr&gt;</th><th scope=col>&lt;chr&gt;</th><th scope=col>&lt;chr&gt;</th></tr>\n",
              "</thead>\n",
              "<tbody>\n",
              "\t<tr><th scope=row>1</th><td>0EAA1910B8BA64B1</td><td>electric_bike</td><td>27-07-2022 19:44</td><td>27-07-2022 19:50</td><td><span style=white-space:pre-wrap>0                                  </span></td><td><span style=white-space:pre-wrap>0           </span></td><td><span style=white-space:pre-wrap>Broadway &amp; Waveland Ave     </span></td><td><span style=white-space:pre-wrap>13325       </span></td><td><span style=white-space:pre-wrap>41,94      </span></td><td><span style=white-space:pre-wrap>-87,64      </span></td><td><span style=white-space:pre-wrap>41,949074  </span></td><td><span style=white-space:pre-wrap>-87,648636  </span></td><td>casual</td><td>00:05:39</td></tr>\n",
              "\t<tr><th scope=row>2</th><td>08DBD790764BE5C2</td><td>electric_bike</td><td>30-07-2022 17:43</td><td>30-07-2022 18:09</td><td><span style=white-space:pre-wrap>Damen Ave &amp; Leland Ave             </span></td><td>TA1307000158</td><td><span style=white-space:pre-wrap>Wood St &amp; Augusta Blvd      </span></td><td><span style=white-space:pre-wrap>657         </span></td><td>41,9671095 </td><td>-87,67905383</td><td><span style=white-space:pre-wrap>41,899181  </span></td><td><span style=white-space:pre-wrap>-87,6722    </span></td><td>member</td><td>00:25:23</td></tr>\n",
              "\t<tr><th scope=row>3</th><td>CEB3246F6F57BD52</td><td>electric_bike</td><td>31-07-2022 21:29</td><td>31-07-2022 21:34</td><td><span style=white-space:pre-wrap>0                                  </span></td><td><span style=white-space:pre-wrap>0           </span></td><td>Desplaines St &amp; Jackson Blvd</td><td><span style=white-space:pre-wrap>15539       </span></td><td><span style=white-space:pre-wrap>41,88      </span></td><td><span style=white-space:pre-wrap>-87,65      </span></td><td>41,8781189 </td><td>-87,6439476 </td><td>casual</td><td>00:04:05</td></tr>\n",
              "\t<tr><th scope=row>4</th><td>F1E9159496E8FBDC</td><td>classic_bike </td><td>12-07-2022 7:19 </td><td>12-07-2022 7:46 </td><td><span style=white-space:pre-wrap>Sheridan Rd &amp; Irving Park Rd       </span></td><td><span style=white-space:pre-wrap>13063       </span></td><td><span style=white-space:pre-wrap>Clark St &amp; Lake St          </span></td><td>KA1503000012</td><td><span style=white-space:pre-wrap>41,954245  </span></td><td><span style=white-space:pre-wrap>-87,654406  </span></td><td>41,88602083</td><td>-87,63087606</td><td>member</td><td>00:27:03</td></tr>\n",
              "\t<tr><th scope=row>5</th><td>7F00E9A0D88E7C10</td><td>classic_bike </td><td>31-07-2022 10:17</td><td>31-07-2022 10:25</td><td><span style=white-space:pre-wrap>Warren Park East                   </span></td><td><span style=white-space:pre-wrap>RP-002      </span></td><td><span style=white-space:pre-wrap>Clark St &amp; Touhy Ave        </span></td><td><span style=white-space:pre-wrap>RP-007      </span></td><td>42,00454962</td><td>-87,68066615</td><td>42,01256012</td><td>-87,67436712</td><td>member</td><td>00:07:36</td></tr>\n",
              "\t<tr><th scope=row>6</th><td>F2CA6BC33F8A0BB0</td><td>electric_bike</td><td>28-07-2022 18:53</td><td>28-07-2022 19:08</td><td>DuSable Lake Shore Dr &amp; Belmont Ave</td><td>TA1309000049</td><td><span style=white-space:pre-wrap>0                           </span></td><td><span style=white-space:pre-wrap>0           </span></td><td>41,9408185 </td><td>-87,63907167</td><td><span style=white-space:pre-wrap>41,92      </span></td><td><span style=white-space:pre-wrap>-87,63      </span></td><td>casual</td><td>00:14:54</td></tr>\n",
              "</tbody>\n",
              "</table>\n"
            ],
            "text/markdown": "\nA data.frame: 6 × 14\n\n| <!--/--> | ride_id &lt;chr&gt; | rideable_type &lt;chr&gt; | started_at &lt;chr&gt; | ended_at &lt;chr&gt; | start_station_name &lt;chr&gt; | start_station_id &lt;chr&gt; | end_station_name &lt;chr&gt; | end_station_id &lt;chr&gt; | start_lat &lt;chr&gt; | start_lng &lt;chr&gt; | end_lat &lt;chr&gt; | end_lng &lt;chr&gt; | member_casual &lt;chr&gt; | ride_length &lt;chr&gt; |\n|---|---|---|---|---|---|---|---|---|---|---|---|---|---|---|\n| 1 | 0EAA1910B8BA64B1 | electric_bike | 27-07-2022 19:44 | 27-07-2022 19:50 | 0                                   | 0            | Broadway &amp; Waveland Ave      | 13325        | 41,94       | -87,64       | 41,949074   | -87,648636   | casual | 00:05:39 |\n| 2 | 08DBD790764BE5C2 | electric_bike | 30-07-2022 17:43 | 30-07-2022 18:09 | Damen Ave &amp; Leland Ave              | TA1307000158 | Wood St &amp; Augusta Blvd       | 657          | 41,9671095  | -87,67905383 | 41,899181   | -87,6722     | member | 00:25:23 |\n| 3 | CEB3246F6F57BD52 | electric_bike | 31-07-2022 21:29 | 31-07-2022 21:34 | 0                                   | 0            | Desplaines St &amp; Jackson Blvd | 15539        | 41,88       | -87,65       | 41,8781189  | -87,6439476  | casual | 00:04:05 |\n| 4 | F1E9159496E8FBDC | classic_bike  | 12-07-2022 7:19  | 12-07-2022 7:46  | Sheridan Rd &amp; Irving Park Rd        | 13063        | Clark St &amp; Lake St           | KA1503000012 | 41,954245   | -87,654406   | 41,88602083 | -87,63087606 | member | 00:27:03 |\n| 5 | 7F00E9A0D88E7C10 | classic_bike  | 31-07-2022 10:17 | 31-07-2022 10:25 | Warren Park East                    | RP-002       | Clark St &amp; Touhy Ave         | RP-007       | 42,00454962 | -87,68066615 | 42,01256012 | -87,67436712 | member | 00:07:36 |\n| 6 | F2CA6BC33F8A0BB0 | electric_bike | 28-07-2022 18:53 | 28-07-2022 19:08 | DuSable Lake Shore Dr &amp; Belmont Ave | TA1309000049 | 0                            | 0            | 41,9408185  | -87,63907167 | 41,92       | -87,63       | casual | 00:14:54 |\n\n",
            "text/latex": "A data.frame: 6 × 14\n\\begin{tabular}{r|llllllllllllll}\n  & ride\\_id & rideable\\_type & started\\_at & ended\\_at & start\\_station\\_name & start\\_station\\_id & end\\_station\\_name & end\\_station\\_id & start\\_lat & start\\_lng & end\\_lat & end\\_lng & member\\_casual & ride\\_length\\\\\n  & <chr> & <chr> & <chr> & <chr> & <chr> & <chr> & <chr> & <chr> & <chr> & <chr> & <chr> & <chr> & <chr> & <chr>\\\\\n\\hline\n\t1 & 0EAA1910B8BA64B1 & electric\\_bike & 27-07-2022 19:44 & 27-07-2022 19:50 & 0                                   & 0            & Broadway \\& Waveland Ave      & 13325        & 41,94       & -87,64       & 41,949074   & -87,648636   & casual & 00:05:39\\\\\n\t2 & 08DBD790764BE5C2 & electric\\_bike & 30-07-2022 17:43 & 30-07-2022 18:09 & Damen Ave \\& Leland Ave              & TA1307000158 & Wood St \\& Augusta Blvd       & 657          & 41,9671095  & -87,67905383 & 41,899181   & -87,6722     & member & 00:25:23\\\\\n\t3 & CEB3246F6F57BD52 & electric\\_bike & 31-07-2022 21:29 & 31-07-2022 21:34 & 0                                   & 0            & Desplaines St \\& Jackson Blvd & 15539        & 41,88       & -87,65       & 41,8781189  & -87,6439476  & casual & 00:04:05\\\\\n\t4 & F1E9159496E8FBDC & classic\\_bike  & 12-07-2022 7:19  & 12-07-2022 7:46  & Sheridan Rd \\& Irving Park Rd        & 13063        & Clark St \\& Lake St           & KA1503000012 & 41,954245   & -87,654406   & 41,88602083 & -87,63087606 & member & 00:27:03\\\\\n\t5 & 7F00E9A0D88E7C10 & classic\\_bike  & 31-07-2022 10:17 & 31-07-2022 10:25 & Warren Park East                    & RP-002       & Clark St \\& Touhy Ave         & RP-007       & 42,00454962 & -87,68066615 & 42,01256012 & -87,67436712 & member & 00:07:36\\\\\n\t6 & F2CA6BC33F8A0BB0 & electric\\_bike & 28-07-2022 18:53 & 28-07-2022 19:08 & DuSable Lake Shore Dr \\& Belmont Ave & TA1309000049 & 0                            & 0            & 41,9408185  & -87,63907167 & 41,92       & -87,63       & casual & 00:14:54\\\\\n\\end{tabular}\n",
            "text/plain": [
              "  ride_id          rideable_type started_at       ended_at        \n",
              "1 0EAA1910B8BA64B1 electric_bike 27-07-2022 19:44 27-07-2022 19:50\n",
              "2 08DBD790764BE5C2 electric_bike 30-07-2022 17:43 30-07-2022 18:09\n",
              "3 CEB3246F6F57BD52 electric_bike 31-07-2022 21:29 31-07-2022 21:34\n",
              "4 F1E9159496E8FBDC classic_bike  12-07-2022 7:19  12-07-2022 7:46 \n",
              "5 7F00E9A0D88E7C10 classic_bike  31-07-2022 10:17 31-07-2022 10:25\n",
              "6 F2CA6BC33F8A0BB0 electric_bike 28-07-2022 18:53 28-07-2022 19:08\n",
              "  start_station_name                  start_station_id\n",
              "1 0                                   0               \n",
              "2 Damen Ave & Leland Ave              TA1307000158    \n",
              "3 0                                   0               \n",
              "4 Sheridan Rd & Irving Park Rd        13063           \n",
              "5 Warren Park East                    RP-002          \n",
              "6 DuSable Lake Shore Dr & Belmont Ave TA1309000049    \n",
              "  end_station_name             end_station_id start_lat   start_lng   \n",
              "1 Broadway & Waveland Ave      13325          41,94       -87,64      \n",
              "2 Wood St & Augusta Blvd       657            41,9671095  -87,67905383\n",
              "3 Desplaines St & Jackson Blvd 15539          41,88       -87,65      \n",
              "4 Clark St & Lake St           KA1503000012   41,954245   -87,654406  \n",
              "5 Clark St & Touhy Ave         RP-007         42,00454962 -87,68066615\n",
              "6 0                            0              41,9408185  -87,63907167\n",
              "  end_lat     end_lng      member_casual ride_length\n",
              "1 41,949074   -87,648636   casual        00:05:39   \n",
              "2 41,899181   -87,6722     member        00:25:23   \n",
              "3 41,8781189  -87,6439476  casual        00:04:05   \n",
              "4 41,88602083 -87,63087606 member        00:27:03   \n",
              "5 42,01256012 -87,67436712 member        00:07:36   \n",
              "6 41,92       -87,63       casual        00:14:54   "
            ]
          },
          "metadata": {}
        }
      ]
    },
    {
      "cell_type": "markdown",
      "source": [
        "# **3. Limpieza y Preprocesamiento de Datos**\n",
        "Tratar los valores nulos (Imputación de valores), duplicados y errores en los datos, eliminar filas duplicados.\n",
        "\n",
        "El preprocesamiento incluye varias actividades, como limpiar datos, manejar valores faltantes, normalizar o escalar características, codificar variables categóricas y reducir la dimensionalidad.\n",
        "1.\tIntegración de Datos: Unir múltiples fuentes de datos en un solo conjunto de datos coherente.\n",
        "2.\tTransformación de Datos: Convertir los datos en un formato adecuado para el análisis. \tEjemplo: Normalizar valores, transformar tipos de datos, etc.\n"
      ],
      "metadata": {
        "id": "RKJpN2-oqM9C"
      }
    },
    {
      "cell_type": "code",
      "source": [
        "datos %>% glimpse()"
      ],
      "metadata": {
        "id": "j4jIQ68sL7BF",
        "colab": {
          "base_uri": "https://localhost:8080/"
        },
        "outputId": "53689853-ea14-4a31-cb1f-6757ca20d513"
      },
      "execution_count": null,
      "outputs": [
        {
          "output_type": "stream",
          "name": "stdout",
          "text": [
            "Rows: 5,005\n",
            "Columns: 14\n",
            "$ ride_id            \u001b[3m\u001b[90m<chr>\u001b[39m\u001b[23m \"0EAA1910B8BA64B1\", \"08DBD790764BE5C2\", \"CEB3246F6F…\n",
            "$ rideable_type      \u001b[3m\u001b[90m<chr>\u001b[39m\u001b[23m \"electric_bike\", \"electric_bike\", \"electric_bike\", …\n",
            "$ started_at         \u001b[3m\u001b[90m<chr>\u001b[39m\u001b[23m \"27-07-2022 19:44\", \"30-07-2022 17:43\", \"31-07-2022…\n",
            "$ ended_at           \u001b[3m\u001b[90m<chr>\u001b[39m\u001b[23m \"27-07-2022 19:50\", \"30-07-2022 18:09\", \"31-07-2022…\n",
            "$ start_station_name \u001b[3m\u001b[90m<chr>\u001b[39m\u001b[23m \"0\", \"Damen Ave & Leland Ave\", \"0\", \"Sheridan Rd & …\n",
            "$ start_station_id   \u001b[3m\u001b[90m<chr>\u001b[39m\u001b[23m \"0\", \"TA1307000158\", \"0\", \"13063\", \"RP-002\", \"TA130…\n",
            "$ end_station_name   \u001b[3m\u001b[90m<chr>\u001b[39m\u001b[23m \"Broadway & Waveland Ave\", \"Wood St & Augusta Blvd\"…\n",
            "$ end_station_id     \u001b[3m\u001b[90m<chr>\u001b[39m\u001b[23m \"13325\", \"657\", \"15539\", \"KA1503000012\", \"RP-007\", …\n",
            "$ start_lat          \u001b[3m\u001b[90m<chr>\u001b[39m\u001b[23m \"41,94\", \"41,9671095\", \"41,88\", \"41,954245\", \"42,00…\n",
            "$ start_lng          \u001b[3m\u001b[90m<chr>\u001b[39m\u001b[23m \"-87,64\", \"-87,67905383\", \"-87,65\", \"-87,654406\", \"…\n",
            "$ end_lat            \u001b[3m\u001b[90m<chr>\u001b[39m\u001b[23m \"41,949074\", \"41,899181\", \"41,8781189\", \"41,8860208…\n",
            "$ end_lng            \u001b[3m\u001b[90m<chr>\u001b[39m\u001b[23m \"-87,648636\", \"-87,6722\", \"-87,6439476\", \"-87,63087…\n",
            "$ member_casual      \u001b[3m\u001b[90m<chr>\u001b[39m\u001b[23m \"casual\", \"member\", \"casual\", \"member\", \"member\", \"…\n",
            "$ ride_length        \u001b[3m\u001b[90m<chr>\u001b[39m\u001b[23m \"00:05:39\", \"00:25:23\", \"00:04:05\", \"00:27:03\", \"00…\n"
          ]
        }
      ]
    },
    {
      "cell_type": "code",
      "source": [
        "datos %>% summary()"
      ],
      "metadata": {
        "colab": {
          "base_uri": "https://localhost:8080/",
          "height": 295
        },
        "id": "M_c1SkY8MEmA",
        "outputId": "58bbb551-a622-455a-f308-7fb5ac3c4539"
      },
      "execution_count": null,
      "outputs": [
        {
          "output_type": "display_data",
          "data": {
            "text/plain": [
              "   ride_id          rideable_type       started_at          ended_at        \n",
              " Length:5005        Length:5005        Length:5005        Length:5005       \n",
              " Class :character   Class :character   Class :character   Class :character  \n",
              " Mode  :character   Mode  :character   Mode  :character   Mode  :character  \n",
              " start_station_name start_station_id   end_station_name   end_station_id    \n",
              " Length:5005        Length:5005        Length:5005        Length:5005       \n",
              " Class :character   Class :character   Class :character   Class :character  \n",
              " Mode  :character   Mode  :character   Mode  :character   Mode  :character  \n",
              "  start_lat          start_lng           end_lat            end_lng         \n",
              " Length:5005        Length:5005        Length:5005        Length:5005       \n",
              " Class :character   Class :character   Class :character   Class :character  \n",
              " Mode  :character   Mode  :character   Mode  :character   Mode  :character  \n",
              " member_casual      ride_length       \n",
              " Length:5005        Length:5005       \n",
              " Class :character   Class :character  \n",
              " Mode  :character   Mode  :character  "
            ]
          },
          "metadata": {}
        }
      ]
    },
    {
      "cell_type": "markdown",
      "source": [
        "A continuación, se haran unas lineas de código con el fin de limpiar el marco de datos considerando:\n",
        "\n",
        "-   Convertir ride_id y rideable_type en caracteres para que se puedan apilar correctamente.\n",
        "\n",
        "-   Eliminar los campos de latitud, longitud, año de nacimiento y género, ya que estos datos se eliminaron a partir de 2020.\n",
        "\n",
        "-   Coherencia en el marco de datos sea coherente con su nomenclatura actual en relación al nombramiento de los ciclistas.\n",
        "\n",
        "- Reasignar a los valores deseados (iremos con las etiquetas actuales de 2020)\n",
        "\n",
        "-   Convertir \"ride_length\" de Factor a numérico para que podamos ejecutar cálculos sobre los datos.\n"
      ],
      "metadata": {
        "id": "Y4nSz1b_9HRW"
      }
    },
    {
      "cell_type": "code",
      "source": [
        "# Convierte ride_id y rideable_type en caracteres para que se puedan apilar correctamente\n",
        "datos$ride_id <- as.character(datos$ride_id)\n",
        "datos$rideable_type <- as.character(datos$rideable_type)"
      ],
      "metadata": {
        "id": "GDAkeOWLiBgI"
      },
      "execution_count": null,
      "outputs": []
    },
    {
      "cell_type": "code",
      "source": [
        "# Convertir las columnas de carácter a fecha y hora usando ymd_hms()\n",
        "datos$started_at <- ymd_hms(datos$started_at)\n",
        "datos$ended_at <- ymd_hms(datos$ended_at)\n",
        "\n",
        "# Calcular la duración del viaje en segundos\n",
        "datos$ride_length <- as.numeric(difftime(datos$ended_at, datos$started_at, units=\"secs\"))\n",
        "\n",
        "# Convertir \"ride_length\" de Factor a numérico para que podamos ejecutar cálculos sobre los datos\n",
        "is.numeric(datos$ride_length)\n",
        "is.factor(datos$ride_length)"
      ],
      "metadata": {
        "colab": {
          "base_uri": "https://localhost:8080/",
          "height": 52
        },
        "id": "5tTtOw35f3gt",
        "outputId": "e0dea675-3303-483f-c64e-f0b0d1d67d03"
      },
      "execution_count": null,
      "outputs": [
        {
          "output_type": "display_data",
          "data": {
            "text/html": [
              "TRUE"
            ],
            "text/markdown": "TRUE",
            "text/latex": "TRUE",
            "text/plain": [
              "[1] TRUE"
            ]
          },
          "metadata": {}
        },
        {
          "output_type": "display_data",
          "data": {
            "text/html": [
              "FALSE"
            ],
            "text/markdown": "FALSE",
            "text/latex": "FALSE",
            "text/plain": [
              "[1] FALSE"
            ]
          },
          "metadata": {}
        }
      ]
    },
    {
      "cell_type": "code",
      "source": [
        "# Elimine los campos de latitud, longitud, año de nacimiento y género, ya que estos datos se eliminaron a partir de 2020.\n",
        "datos <- datos %>%\n",
        "  select(-c(start_lat, start_lng, end_lat, end_lng))"
      ],
      "metadata": {
        "id": "fw556-Mwh_dW"
      },
      "execution_count": null,
      "outputs": []
    },
    {
      "cell_type": "code",
      "source": [
        "head(datos)"
      ],
      "metadata": {
        "colab": {
          "base_uri": "https://localhost:8080/",
          "height": 286
        },
        "id": "SmZjSpz8hSVV",
        "outputId": "f661273c-9cbc-484c-8f01-9e8e75f6beca"
      },
      "execution_count": null,
      "outputs": [
        {
          "output_type": "display_data",
          "data": {
            "text/html": [
              "<table class=\"dataframe\">\n",
              "<caption>A data.frame: 6 × 10</caption>\n",
              "<thead>\n",
              "\t<tr><th></th><th scope=col>ride_id</th><th scope=col>rideable_type</th><th scope=col>started_at</th><th scope=col>ended_at</th><th scope=col>start_station_name</th><th scope=col>start_station_id</th><th scope=col>end_station_name</th><th scope=col>end_station_id</th><th scope=col>member_casual</th><th scope=col>ride_length</th></tr>\n",
              "\t<tr><th></th><th scope=col>&lt;chr&gt;</th><th scope=col>&lt;chr&gt;</th><th scope=col>&lt;dttm&gt;</th><th scope=col>&lt;dttm&gt;</th><th scope=col>&lt;chr&gt;</th><th scope=col>&lt;chr&gt;</th><th scope=col>&lt;chr&gt;</th><th scope=col>&lt;chr&gt;</th><th scope=col>&lt;chr&gt;</th><th scope=col>&lt;dbl&gt;</th></tr>\n",
              "</thead>\n",
              "<tbody>\n",
              "\t<tr><th scope=row>1</th><td>0EAA1910B8BA64B1</td><td>electric_bike</td><td>2027-07-20 22:19:44</td><td>2027-07-20 22:19:50</td><td><span style=white-space:pre-wrap>0                                  </span></td><td><span style=white-space:pre-wrap>0           </span></td><td><span style=white-space:pre-wrap>Broadway &amp; Waveland Ave     </span></td><td><span style=white-space:pre-wrap>13325       </span></td><td>casual</td><td> 6</td></tr>\n",
              "\t<tr><th scope=row>2</th><td>08DBD790764BE5C2</td><td>electric_bike</td><td>2030-07-20 22:17:43</td><td>2030-07-20 22:18:09</td><td><span style=white-space:pre-wrap>Damen Ave &amp; Leland Ave             </span></td><td>TA1307000158</td><td><span style=white-space:pre-wrap>Wood St &amp; Augusta Blvd      </span></td><td><span style=white-space:pre-wrap>657         </span></td><td>member</td><td>26</td></tr>\n",
              "\t<tr><th scope=row>3</th><td>CEB3246F6F57BD52</td><td>electric_bike</td><td>2031-07-20 22:21:29</td><td>2031-07-20 22:21:34</td><td><span style=white-space:pre-wrap>0                                  </span></td><td><span style=white-space:pre-wrap>0           </span></td><td>Desplaines St &amp; Jackson Blvd</td><td><span style=white-space:pre-wrap>15539       </span></td><td>casual</td><td> 5</td></tr>\n",
              "\t<tr><th scope=row>4</th><td>F1E9159496E8FBDC</td><td>classic_bike </td><td>2012-07-20 22:07:19</td><td>2012-07-20 22:07:46</td><td><span style=white-space:pre-wrap>Sheridan Rd &amp; Irving Park Rd       </span></td><td><span style=white-space:pre-wrap>13063       </span></td><td><span style=white-space:pre-wrap>Clark St &amp; Lake St          </span></td><td>KA1503000012</td><td>member</td><td>27</td></tr>\n",
              "\t<tr><th scope=row>5</th><td>7F00E9A0D88E7C10</td><td>classic_bike </td><td>2031-07-20 22:10:17</td><td>2031-07-20 22:10:25</td><td><span style=white-space:pre-wrap>Warren Park East                   </span></td><td><span style=white-space:pre-wrap>RP-002      </span></td><td><span style=white-space:pre-wrap>Clark St &amp; Touhy Ave        </span></td><td><span style=white-space:pre-wrap>RP-007      </span></td><td>member</td><td> 8</td></tr>\n",
              "\t<tr><th scope=row>6</th><td>F2CA6BC33F8A0BB0</td><td>electric_bike</td><td>2028-07-20 22:18:53</td><td>2028-07-20 22:19:08</td><td>DuSable Lake Shore Dr &amp; Belmont Ave</td><td>TA1309000049</td><td><span style=white-space:pre-wrap>0                           </span></td><td><span style=white-space:pre-wrap>0           </span></td><td>casual</td><td>15</td></tr>\n",
              "</tbody>\n",
              "</table>\n"
            ],
            "text/markdown": "\nA data.frame: 6 × 10\n\n| <!--/--> | ride_id &lt;chr&gt; | rideable_type &lt;chr&gt; | started_at &lt;dttm&gt; | ended_at &lt;dttm&gt; | start_station_name &lt;chr&gt; | start_station_id &lt;chr&gt; | end_station_name &lt;chr&gt; | end_station_id &lt;chr&gt; | member_casual &lt;chr&gt; | ride_length &lt;dbl&gt; |\n|---|---|---|---|---|---|---|---|---|---|---|\n| 1 | 0EAA1910B8BA64B1 | electric_bike | 2027-07-20 22:19:44 | 2027-07-20 22:19:50 | 0                                   | 0            | Broadway &amp; Waveland Ave      | 13325        | casual |  6 |\n| 2 | 08DBD790764BE5C2 | electric_bike | 2030-07-20 22:17:43 | 2030-07-20 22:18:09 | Damen Ave &amp; Leland Ave              | TA1307000158 | Wood St &amp; Augusta Blvd       | 657          | member | 26 |\n| 3 | CEB3246F6F57BD52 | electric_bike | 2031-07-20 22:21:29 | 2031-07-20 22:21:34 | 0                                   | 0            | Desplaines St &amp; Jackson Blvd | 15539        | casual |  5 |\n| 4 | F1E9159496E8FBDC | classic_bike  | 2012-07-20 22:07:19 | 2012-07-20 22:07:46 | Sheridan Rd &amp; Irving Park Rd        | 13063        | Clark St &amp; Lake St           | KA1503000012 | member | 27 |\n| 5 | 7F00E9A0D88E7C10 | classic_bike  | 2031-07-20 22:10:17 | 2031-07-20 22:10:25 | Warren Park East                    | RP-002       | Clark St &amp; Touhy Ave         | RP-007       | member |  8 |\n| 6 | F2CA6BC33F8A0BB0 | electric_bike | 2028-07-20 22:18:53 | 2028-07-20 22:19:08 | DuSable Lake Shore Dr &amp; Belmont Ave | TA1309000049 | 0                            | 0            | casual | 15 |\n\n",
            "text/latex": "A data.frame: 6 × 10\n\\begin{tabular}{r|llllllllll}\n  & ride\\_id & rideable\\_type & started\\_at & ended\\_at & start\\_station\\_name & start\\_station\\_id & end\\_station\\_name & end\\_station\\_id & member\\_casual & ride\\_length\\\\\n  & <chr> & <chr> & <dttm> & <dttm> & <chr> & <chr> & <chr> & <chr> & <chr> & <dbl>\\\\\n\\hline\n\t1 & 0EAA1910B8BA64B1 & electric\\_bike & 2027-07-20 22:19:44 & 2027-07-20 22:19:50 & 0                                   & 0            & Broadway \\& Waveland Ave      & 13325        & casual &  6\\\\\n\t2 & 08DBD790764BE5C2 & electric\\_bike & 2030-07-20 22:17:43 & 2030-07-20 22:18:09 & Damen Ave \\& Leland Ave              & TA1307000158 & Wood St \\& Augusta Blvd       & 657          & member & 26\\\\\n\t3 & CEB3246F6F57BD52 & electric\\_bike & 2031-07-20 22:21:29 & 2031-07-20 22:21:34 & 0                                   & 0            & Desplaines St \\& Jackson Blvd & 15539        & casual &  5\\\\\n\t4 & F1E9159496E8FBDC & classic\\_bike  & 2012-07-20 22:07:19 & 2012-07-20 22:07:46 & Sheridan Rd \\& Irving Park Rd        & 13063        & Clark St \\& Lake St           & KA1503000012 & member & 27\\\\\n\t5 & 7F00E9A0D88E7C10 & classic\\_bike  & 2031-07-20 22:10:17 & 2031-07-20 22:10:25 & Warren Park East                    & RP-002       & Clark St \\& Touhy Ave         & RP-007       & member &  8\\\\\n\t6 & F2CA6BC33F8A0BB0 & electric\\_bike & 2028-07-20 22:18:53 & 2028-07-20 22:19:08 & DuSable Lake Shore Dr \\& Belmont Ave & TA1309000049 & 0                            & 0            & casual & 15\\\\\n\\end{tabular}\n",
            "text/plain": [
              "  ride_id          rideable_type started_at          ended_at           \n",
              "1 0EAA1910B8BA64B1 electric_bike 2027-07-20 22:19:44 2027-07-20 22:19:50\n",
              "2 08DBD790764BE5C2 electric_bike 2030-07-20 22:17:43 2030-07-20 22:18:09\n",
              "3 CEB3246F6F57BD52 electric_bike 2031-07-20 22:21:29 2031-07-20 22:21:34\n",
              "4 F1E9159496E8FBDC classic_bike  2012-07-20 22:07:19 2012-07-20 22:07:46\n",
              "5 7F00E9A0D88E7C10 classic_bike  2031-07-20 22:10:17 2031-07-20 22:10:25\n",
              "6 F2CA6BC33F8A0BB0 electric_bike 2028-07-20 22:18:53 2028-07-20 22:19:08\n",
              "  start_station_name                  start_station_id\n",
              "1 0                                   0               \n",
              "2 Damen Ave & Leland Ave              TA1307000158    \n",
              "3 0                                   0               \n",
              "4 Sheridan Rd & Irving Park Rd        13063           \n",
              "5 Warren Park East                    RP-002          \n",
              "6 DuSable Lake Shore Dr & Belmont Ave TA1309000049    \n",
              "  end_station_name             end_station_id member_casual ride_length\n",
              "1 Broadway & Waveland Ave      13325          casual         6         \n",
              "2 Wood St & Augusta Blvd       657            member        26         \n",
              "3 Desplaines St & Jackson Blvd 15539          casual         5         \n",
              "4 Clark St & Lake St           KA1503000012   member        27         \n",
              "5 Clark St & Touhy Ave         RP-007         member         8         \n",
              "6 0                            0              casual        15         "
            ]
          },
          "metadata": {}
        }
      ]
    },
    {
      "cell_type": "code",
      "source": [
        "# Comience viendo cuántas observaciones corresponden a cada tipo de usuario\n",
        "table(datos$member_casual)"
      ],
      "metadata": {
        "colab": {
          "base_uri": "https://localhost:8080/",
          "height": 69
        },
        "id": "dkcMo0pyjVLa",
        "outputId": "bf82fbcb-80fc-411e-da94-ebf71e70314d"
      },
      "execution_count": null,
      "outputs": [
        {
          "output_type": "display_data",
          "data": {
            "text/plain": [
              "\n",
              "casual member \n",
              "  1752   3253 "
            ]
          },
          "metadata": {}
        }
      ]
    },
    {
      "cell_type": "markdown",
      "source": [
        "Antes de 2020, Divvy usaba etiquetas diferentes para estos dos tipos de ciclistas... queremos que nuestro marco de datos sea consistente con su nomenclatura actual."
      ],
      "metadata": {
        "id": "dX1DOR_yjZ4P"
      }
    },
    {
      "cell_type": "code",
      "source": [
        "# Reasignar a los valores deseados (iremos con las etiquetas actuales de 2020)\n",
        "datos <-  datos %>%\n",
        "  mutate(member_casual = recode(member_casual\n",
        "                                ,\"Subscriber\" = \"member\"\n",
        "                                ,\"Customer\" = \"casual\"))\n",
        "\n",
        "# Verifique para asegurarse de que se haya reasignado el número adecuado de observaciones\n",
        "table(datos$member_casual)"
      ],
      "metadata": {
        "colab": {
          "base_uri": "https://localhost:8080/",
          "height": 69
        },
        "id": "LYlw9T4FjxAf",
        "outputId": "d60b0eb9-d090-45b4-d6b7-2bb958f695e2"
      },
      "execution_count": null,
      "outputs": [
        {
          "output_type": "display_data",
          "data": {
            "text/plain": [
              "\n",
              "casual member \n",
              "  1752   3253 "
            ]
          },
          "metadata": {}
        }
      ]
    },
    {
      "cell_type": "code",
      "source": [
        "# Agregue columnas que enumeren la fecha, mes, día y año de cada viaje.\n",
        "datos$date <- as.Date(datos$started_at) #The default format is yyyy-mm-dd\n",
        "datos$month <- format(as.Date(datos$date), \"%m\")\n",
        "datos$day <- format(as.Date(datos$date), \"%d\")\n",
        "datos$year <- format(as.Date(datos$date), \"%Y\")\n",
        "datos$day_of_week <- format(as.Date(datos$date), \"%A\")\n",
        "\n",
        "\n",
        "# Agregar un cálculo de \"duración del viaje\" a todos los viajes (en segundos)\n",
        "datos$ride_length <- difftime(datos$ended_at,datos$started_at)\n",
        "\n",
        "str(datos)"
      ],
      "metadata": {
        "trusted": true,
        "colab": {
          "base_uri": "https://localhost:8080/"
        },
        "id": "kOI8DhLf9HRW",
        "outputId": "09e88634-9f70-425a-dc62-110fd5fe8cfc"
      },
      "execution_count": null,
      "outputs": [
        {
          "output_type": "stream",
          "name": "stdout",
          "text": [
            "'data.frame':\t5005 obs. of  15 variables:\n",
            " $ ride_id           : chr  \"0EAA1910B8BA64B1\" \"08DBD790764BE5C2\" \"CEB3246F6F57BD52\" \"F1E9159496E8FBDC\" ...\n",
            " $ rideable_type     : chr  \"electric_bike\" \"electric_bike\" \"electric_bike\" \"classic_bike\" ...\n",
            " $ started_at        : POSIXct, format: \"2027-07-20 22:19:44\" \"2030-07-20 22:17:43\" ...\n",
            " $ ended_at          : POSIXct, format: \"2027-07-20 22:19:50\" \"2030-07-20 22:18:09\" ...\n",
            " $ start_station_name: chr  \"0\" \"Damen Ave & Leland Ave\" \"0\" \"Sheridan Rd & Irving Park Rd\" ...\n",
            " $ start_station_id  : chr  \"0\" \"TA1307000158\" \"0\" \"13063\" ...\n",
            " $ end_station_name  : chr  \"Broadway & Waveland Ave\" \"Wood St & Augusta Blvd\" \"Desplaines St & Jackson Blvd\" \"Clark St & Lake St\" ...\n",
            " $ end_station_id    : chr  \"13325\" \"657\" \"15539\" \"KA1503000012\" ...\n",
            " $ member_casual     : chr  \"casual\" \"member\" \"casual\" \"member\" ...\n",
            " $ ride_length       : 'difftime' num  6 26 5 27 ...\n",
            "  ..- attr(*, \"units\")= chr \"secs\"\n",
            " $ date              : Date, format: \"2027-07-20\" \"2030-07-20\" ...\n",
            " $ month             : chr  \"07\" \"07\" \"07\" \"07\" ...\n",
            " $ day               : chr  \"20\" \"20\" \"20\" \"20\" ...\n",
            " $ year              : chr  \"2027\" \"2030\" \"2031\" \"2012\" ...\n",
            " $ day_of_week       : chr  \"Tuesday\" \"Saturday\" \"Sunday\" \"Friday\" ...\n"
          ]
        }
      ]
    },
    {
      "cell_type": "markdown",
      "source": [
        "A continuación se *eliminan datos \"malos\"*. El marco de datos incluye algunos cientos de entradas cuando Divvy sacó las bicicletas de los muelles y Divvy verificó su calidad o la longitud de paseo fue negativa Crearemos una nueva versión del marco de datos (v2) ya que se están eliminando datos"
      ],
      "metadata": {
        "id": "WOoRPF589HRW"
      }
    },
    {
      "cell_type": "code",
      "source": [
        "#Filtra el dataframe datos para seleccionar las filas donde el nombre de la estación de inicio (start_station_name) no sea igual a \"HQ QR\" o la longitud del viaje (ride_length) sea mayor o igual a cero.\n",
        "datos <- datos[!(datos$start_station_name == \"HQ QR\" | datos$ride_length<0),]"
      ],
      "metadata": {
        "trusted": true,
        "id": "9XkSdWyw9HRX"
      },
      "execution_count": null,
      "outputs": []
    },
    {
      "cell_type": "code",
      "source": [
        "str(datos)"
      ],
      "metadata": {
        "colab": {
          "base_uri": "https://localhost:8080/"
        },
        "id": "zeTIUyhhsTMg",
        "outputId": "b5a5c030-db66-469e-845b-27c7425922bb"
      },
      "execution_count": null,
      "outputs": [
        {
          "output_type": "stream",
          "name": "stdout",
          "text": [
            "'data.frame':\t5005 obs. of  15 variables:\n",
            " $ ride_id           : chr  \"0EAA1910B8BA64B1\" \"08DBD790764BE5C2\" \"CEB3246F6F57BD52\" \"F1E9159496E8FBDC\" ...\n",
            " $ rideable_type     : chr  \"electric_bike\" \"electric_bike\" \"electric_bike\" \"classic_bike\" ...\n",
            " $ started_at        : POSIXct, format: \"2027-07-20 22:19:44\" \"2030-07-20 22:17:43\" ...\n",
            " $ ended_at          : POSIXct, format: \"2027-07-20 22:19:50\" \"2030-07-20 22:18:09\" ...\n",
            " $ start_station_name: chr  \"0\" \"Damen Ave & Leland Ave\" \"0\" \"Sheridan Rd & Irving Park Rd\" ...\n",
            " $ start_station_id  : chr  \"0\" \"TA1307000158\" \"0\" \"13063\" ...\n",
            " $ end_station_name  : chr  \"Broadway & Waveland Ave\" \"Wood St & Augusta Blvd\" \"Desplaines St & Jackson Blvd\" \"Clark St & Lake St\" ...\n",
            " $ end_station_id    : chr  \"13325\" \"657\" \"15539\" \"KA1503000012\" ...\n",
            " $ member_casual     : chr  \"casual\" \"member\" \"casual\" \"member\" ...\n",
            " $ ride_length       : 'difftime' num  6 26 5 27 ...\n",
            "  ..- attr(*, \"units\")= chr \"secs\"\n",
            " $ date              : Date, format: \"2027-07-20\" \"2030-07-20\" ...\n",
            " $ month             : chr  \"07\" \"07\" \"07\" \"07\" ...\n",
            " $ day               : chr  \"20\" \"20\" \"20\" \"20\" ...\n",
            " $ year              : chr  \"2027\" \"2030\" \"2031\" \"2012\" ...\n",
            " $ day_of_week       : chr  \"Tuesday\" \"Saturday\" \"Sunday\" \"Friday\" ...\n"
          ]
        }
      ]
    },
    {
      "cell_type": "markdown",
      "source": [
        "# **4. Análisis Exploratorio de Datos**\n",
        "Explorar los datos para identificar patrones y anomalías.\n",
        "Durante esta etapa, se busca entender mejor la estructura, características y relaciones dentro del conjunto de datos\n",
        "1. Visualización de Datos: Utilización de gráficos y visualizaciones para identificar patrones, tendencias y posibles anomalías en los datos.\n",
        " - Ejemplo: Crear histogramas, gráficos de dispersión, diagramas de caja y gráficos de barras\n"
      ],
      "metadata": {
        "id": "pXQB08-9vWHK"
      }
    },
    {
      "cell_type": "markdown",
      "source": [
        "##4.1. Histograma de Tipo de ciclista\n",
        "Un histograma es un tipo de gráfico utilizado en estadística para representar la distribución de un conjunto de datos. A continuación, se describen sus elementos y cómo interpretarlo:\n",
        "\n",
        "1. **Ejes**:\n",
        "\n",
        " - Eje Horizontal (X): Representa los intervalos o rangos de los valores de la variable.\n",
        " - Eje Vertical (Y): Indica la frecuencia o el número de datos que caen dentro de cada intervalo.\n",
        "\n",
        "2. **Barras**:\n",
        "\n",
        " - Cada barra representa un intervalo de valores.\n",
        "- La altura de cada barra muestra la frecuencia de datos dentro de ese intervalo.\n",
        "\n",
        "3. **Intervalos (Bins)**:\n",
        "\n",
        " - Divisiones del rango de datos en segmentos iguales o desiguales.\n",
        " - Los intervalos deben ser contiguos y no superponerse.\n",
        "\n",
        "4. **Frecuencia**:\n",
        "\n",
        " - Número de datos que caen dentro de cada intervalo.\n",
        " - Puede ser frecuencia absoluta (conteo) o frecuencia relativa (proporción).\n",
        "\n",
        "<u>**Tipos de Histogramas**</u>:\n",
        "1. **Histograma de Frecuencia Absoluta**:\n",
        " - Muestra el número total de observaciones en cada intervalo.\n",
        "\n",
        "2. **Histograma de Frecuencia Relativa**:\n",
        "\n",
        " - Muestra la proporción de observaciones en cada intervalo respecto al total.\n",
        "\n",
        "3. **Histograma de Frecuencia Acumulada**:\n",
        "\n",
        " - Muestra la suma acumulativa de las frecuencias hasta cada intervalo.\n",
        "\n",
        "<u>**Interpretación**</u>:\n",
        "- **Forma**: La forma del histograma puede revelar la distribución de los datos, como si son simétricos, sesgados, unimodales, bimodales, etc.\n",
        "- **Tendencia Central**: Puede identificar valores comunes o típicos dentro del conjunto de datos.\n",
        "- **Dispersión**: Muestra el rango y la variabilidad de los datos.\n",
        "- **Valores Atípicos**: Permite identificar datos que se desvían significativamente del resto.\n",
        "\n",
        "Los histogramas son herramientas poderosas para el análisis exploratorio de datos, proporcionando una vista rápida y clara de la distribución de una variable"
      ],
      "metadata": {
        "id": "mt3SVmDrzw64"
      }
    },
    {
      "cell_type": "code",
      "source": [
        "table(datos$member_casual)"
      ],
      "metadata": {
        "colab": {
          "base_uri": "https://localhost:8080/",
          "height": 69
        },
        "id": "X-B6oyBaxvzJ",
        "outputId": "89639ba5-e6a3-4475-8dad-26ab3c36f0e7"
      },
      "execution_count": null,
      "outputs": [
        {
          "output_type": "display_data",
          "data": {
            "text/plain": [
              "\n",
              "casual member \n",
              "  1752   3253 "
            ]
          },
          "metadata": {}
        }
      ]
    },
    {
      "cell_type": "code",
      "source": [
        "library(ggplot2)\n",
        "\n",
        "# Calcular frecuencias de cada tipo de ciclista\n",
        "conteos <- table(datos$member_casual)\n",
        "\n",
        "# Crear el histograma con ggplot2 y etiquetas\n",
        "ggplot(datos, aes(x = member_casual)) +\n",
        "  geom_bar(fill = \"#FFA500\", color = \"black\") +\n",
        "  geom_text(stat = \"count\", aes(label = ..count..), vjust = -0.5) +  # Agregar etiquetas de conteo\n",
        "  labs(\n",
        "    title = \"Histograma de Tipo de Ciclistas\",\n",
        "    x = \"Tipo de Ciclista\",\n",
        "    y = \"Frecuencia\"\n",
        "  ) +\n",
        "  theme_minimal() +\n",
        "  theme(\n",
        "    plot.title = element_text(size = 16, hjust = 0.5, face = \"bold\"),\n",
        "    axis.text = element_text(size = 12),\n",
        "    axis.title = element_text(size = 14)\n",
        "  )\n"
      ],
      "metadata": {
        "colab": {
          "base_uri": "https://localhost:8080/",
          "height": 489
        },
        "id": "EVgB5LXNxGVo",
        "outputId": "a9a65011-84b1-43c3-b068-07f3445f345c"
      },
      "execution_count": null,
      "outputs": [
        {
          "output_type": "stream",
          "name": "stderr",
          "text": [
            "Warning message:\n",
            "“\u001b[1m\u001b[22mThe dot-dot notation (`..count..`) was deprecated in ggplot2 3.4.0.\n",
            "\u001b[36mℹ\u001b[39m Please use `after_stat(count)` instead.”\n"
          ]
        },
        {
          "output_type": "display_data",
          "data": {
            "text/plain": [
              "plot without title"
            ],
            "image/png": "[encoded data removed]"
          },
          "metadata": {
            "image/png": {
              "width": 420,
              "height": 420
            }
          }
        }
      ]
    },
    {
      "cell_type": "markdown",
      "source": [
        "La imagen muestra un gráfico de barras que ilustra la distribución de ciclistas casuales y miembros que utilizan los servicios de bicicletas compartidas de Cyclistic. Según el gráfico, hay muchos más ciclistas casuales que miembros. El número de ciclistas casuales es aproximadamente el doble del número de ciclistas miembros.\n",
        "\n",
        "**Conclusiones clave del gráfico**:\n",
        "\n",
        "- <u>Distribución de ciclistas</u>: Los ciclistas casuales constituyen la mayoría de los usuarios de Cyclistic, lo que indica que el servicio se utiliza principalmente para viajes ocasionales en lugar de desplazamientos habituales al trabajo.\n",
        "\n",
        "- <u>Oportunidad de conversión a membresía</u>: La gran cantidad de ciclistas casuales sugiere una oportunidad potencial para que Cyclistic los convierta en miembros pagos. Esto podría lograrse mediante campañas de marketing específicas e incentivos que destaquen los beneficios de la membresía, como tarifas reducidas, tiempos de viaje más largos o acceso a bicicletas premium.\n",
        "\n",
        "**Consideraciones adicionale**s:\n",
        "\n",
        "- <u>Factores que influyen en el tipo de ciclista</u>: Sería interesante analizar los factores que podrían influir en si un ciclista se convierte en un usuario casual o miembro. Estos factores podrían incluir la distancia del viaje, la frecuencia de uso de la bicicleta y los hábitos generales de ciclismo.\n",
        "\n",
        "- <u>Variaciones geográficas</u>: La distribución de ciclistas casuales y miembros puede variar según las áreas geográficas. Entender estas variaciones podría ayudar a Cyclistic a adaptar sus estrategias de marketing a regiones específicas.\n",
        "\n",
        "- <u>Tendencias estacionales</u>: Los patrones de uso de los ciclistas casuales y miembros también pueden mostrar tendencias estacionales. Analizar estas tendencias podría ayudar a Cyclistic a optimizar sus operaciones y esfuerzos de marketing durante todo el año."
      ],
      "metadata": {
        "id": "TM8c_5zTyknv"
      }
    },
    {
      "cell_type": "markdown",
      "source": [
        "## 4.2. Correlaciones entre variables\n",
        "Un gráfico de correlaciones, también conocido como matriz de correlación, es una herramienta visual utilizada para mostrar la relación entre múltiples variables en un conjunto de datos. A continuación, se describen sus elementos y cómo interpretarlo:\n",
        "\n",
        "1. **Matriz de Correlación**:\n",
        " - Es una tabla donde cada celda muestra el coeficiente de correlación entre dos variables.\n",
        " - Los valores varían de -1 a 1, donde:\n",
        "    - 1 indica una correlación positiva perfecta.\n",
        "    - 1 indica una correlación negativa perfecta.\n",
        "    - 0 indica que no hay correlación.\n",
        "\n",
        "2. **Coeficientes de Correlación**:\n",
        "\n",
        " - Se calculan utilizando métodos como Pearson, Spearman o Kendall.\n",
        " - Pearson es el más común y mide la relación lineal entre dos variables.\n",
        "\n",
        "3. **Colores y Escala de Color**:\n",
        "\n",
        " - Los gráficos suelen usar una escala de colores para representar la magnitud y dirección de la correlación.\n",
        " - Colores más oscuros o intensos indican correlaciones fuertes (positivas o negativas).\n",
        "\n",
        "\n",
        "4. **Celdas o Puntos de Datos**:\n",
        "\n",
        " - Cada celda en la matriz corresponde a un par de variables.\n",
        "En algunos gráficos, los puntos o celdas pueden ser sombreados o coloreados para mejorar la visualización.\n",
        "\n",
        "\n",
        "5. **Diagonales**:\n",
        " - Las celdas en la diagonal de la matriz muestran la correlación de una variable consigo misma, que siempre es 1.\n",
        "\n",
        "<u>**Interpretación**</u>:\n",
        "- **Correlación Positiva**: A medida que una variable aumenta, la otra también lo hace (por ejemplo, altura y peso).\n",
        "\n",
        "- **Correlación Negativa**: A medida que una variable aumenta, la otra disminuye (por ejemplo, velocidad y tiempo de viaje para una distancia fija).\n",
        "\n",
        "- **Falta de Correlación**: No hay una relación discernible entre las variables.\n",
        "\n",
        "\n",
        "<u>**Uso**</u>:\n",
        "- Identificar relaciones y patrones entre variables.\n",
        "- Seleccionar variables relevantes para modelos predictivos.\n",
        "- Detectar multicolinealidad en análisis de regresión.\n",
        "\n",
        "Un gráfico de correlaciones es una herramienta poderosa para análisis exploratorios y para entender cómo interactúan las variables dentro de un conjunto de datos"
      ],
      "metadata": {
        "id": "dkbzZM4oz5FA"
      }
    },
    {
      "cell_type": "code",
      "source": [
        "install.packages(\"corrplot\")\n",
        "install.packages(\"tidyverse\")"
      ],
      "metadata": {
        "colab": {
          "base_uri": "https://localhost:8080/"
        },
        "id": "h2olghMwz_Xq",
        "outputId": "2791dba8-97ff-444b-e04c-a8f30d8a7a53"
      },
      "execution_count": null,
      "outputs": [
        {
          "output_type": "stream",
          "name": "stderr",
          "text": [
            "Installing package into ‘/usr/local/lib/R/site-library’\n",
            "(as ‘lib’ is unspecified)\n",
            "\n",
            "Installing package into ‘/usr/local/lib/R/site-library’\n",
            "(as ‘lib’ is unspecified)\n",
            "\n"
          ]
        }
      ]
    },
    {
      "cell_type": "code",
      "source": [
        "# Cargar las librerías necesarias\n",
        "library(tidyverse)\n",
        "library(corrplot)\n",
        "\n",
        "\n",
        "# Convertir las variables de fecha a formato DateTime\n",
        "data <- datos %>%\n",
        "  mutate(started_at = as.POSIXct(started_at, format=\"%Y-%m-%d %H:%M:%S\"),\n",
        "         ended_at = as.POSIXct(ended_at, format=\"%Y-%m-%d %H:%M:%S\"),\n",
        "         ride_length = as.numeric(difftime(ended_at, started_at, units = \"mins\")))\n",
        "\n",
        "# Convertir variables categóricas a factores y luego a numéricas\n",
        "data <- data %>%\n",
        "  mutate(rideable_type = as.numeric(as.factor(rideable_type)),\n",
        "         start_station_name = as.numeric(as.factor(start_station_name)),\n",
        "         end_station_name = as.numeric(as.factor(end_station_name)),\n",
        "         member_casual = ifelse(member_casual == \"member\", 1, 0))\n",
        "\n",
        "# Seleccionar las variables para el análisis de correlaciones\n",
        "selected_vars <- data %>%\n",
        "  select(rideable_type, start_station_name, end_station_name, ride_length, member_casual)\n",
        "\n",
        "# Calcular la matriz de correlación\n",
        "cor_matrix <- cor(selected_vars, use = \"complete.obs\")\n",
        "\n",
        "# Generar el gráfico de correlaciones con los valores\n",
        "corrplot(cor_matrix, method = \"circle\", type = \"lower\", tl.col = \"black\", tl.srt = 45, addCoef.col = \"black\")\n"
      ],
      "metadata": {
        "id": "eOhR0C1I3DIO",
        "outputId": "42fed7c3-3b55-4170-f633-66a7273d37c2",
        "colab": {
          "base_uri": "https://localhost:8080/",
          "height": 472
        }
      },
      "execution_count": null,
      "outputs": [
        {
          "output_type": "stream",
          "name": "stderr",
          "text": [
            "corrplot 0.92 loaded\n",
            "\n"
          ]
        },
        {
          "output_type": "display_data",
          "data": {
            "text/plain": [
              "Plot with title “”"
            ],
            "image/png": "[encoded data removed]"
          },
          "metadata": {
            "image/png": {
              "width": 420,
              "height": 420
            }
          }
        }
      ]
    },
    {
      "cell_type": "markdown",
      "source": [
        "**Conclusiones del Gráfico de Correlaciones**\n",
        "- El gráfico de correlaciones muestra las relaciones entre las variables independientes y entre estas y la variable dependiente (member_casual). Aquí se destacan las principales correlaciones:\n",
        "\n",
        "1. **Correlación entre rideable_type y otras variables**:\n",
        " - **start_station_name**: Correlación negativa (-0.21).\n",
        " - **end_station_name**: Correlación negativa (-0.23).\n",
        " - **member_casual**: Correlación negativa (-0.1), indicando una ligera tendencia de tipos de bicicletas específicos con el tipo de membresía.\n",
        "\n",
        "2. **Correlación entre start_station_name y otras variables**:\n",
        " - **end_station_name**: Correlación positiva (0.15), sugiriendo que estaciones de inicio y fin están ligeramente relacionadas.\n",
        " - **ride_length**: Correlación insignificante (0.02).\n",
        "\n",
        "3. **Correlación entre end_station_name y otras variables**:\n",
        "\n",
        " - **ride_length**: Correlación insignificante (-0.03).\n",
        " - **member_casual**: Correlación positiva (0.04).\n",
        "\n",
        "4. **Correlación entre ride_length y otras variables**:\n",
        " - No presenta correlaciones significativas con las demás variables.\n",
        "\n",
        "5. **Correlación entre member_casual y otras variables**:\n",
        "\n",
        " - rideable_type: Ligera correlación negativa (-0.1).\n",
        " - start_station_name: Correlación insignificante (0.01).\n",
        " - end_station_name: Correlación positiva (0.04).\n",
        " - ride_length: Correlación insignificante (-0.04).\n",
        "\n",
        "**<u>Implicaciones para la Estrategia de Marketing</u>**\n",
        "La directora de marketing puede utilizar estas correlaciones para identificar patrones en el uso de bicicletas y diseñar estrategias para convertir ciclistas ocasionales en miembros anuales. Algunas observaciones clave son:\n",
        "\n",
        "- **Tipo de bicicleta**: La elección del tipo de bicicleta tiene una ligera correlación con el tipo de membresía, lo que podría indicar preferencias específicas que pueden ser aprovechadas en la campaña de marketing.\n",
        "\n",
        "- **Estaciones de inicio y fin**: Aunque la correlación entre las estaciones de inicio y fin es ligera, puede ser útil para identificar rutas populares entre diferentes tipos de usuarios.\n",
        "\n",
        "- **Duración del viaje**: La duración del viaje no muestra correlaciones significativas, pero puede ser un factor independiente para analizar el comportamiento de los usuarios."
      ],
      "metadata": {
        "id": "Wbr6beM0E50h"
      }
    },
    {
      "cell_type": "markdown",
      "source": [
        "## 4.3. **Gráfico Caja-Bigote**\n",
        "El diagrama de caja y bigotes, también conocido como boxplot, es una herramienta visual utilizada en estadística para representar la distribución de un conjunto de datos.\n",
        "Se utiliza principalmente para variables numéricas. Este tipo de gráfico es útil para visualizar la distribución de una variable continua y para identificar outliers (valores atípicos), la mediana, los cuartiles, y el rango intercuartílico.\n",
        "\n",
        "A continuación, se detallan sus elementos y cómo interpretarlo:\n",
        "\n",
        "1. **Caja (Box)**:\n",
        " - Representa el rango intercuartílico (IQR), que abarca desde el primer cuartil (Q1) hasta el tercer cuartil (Q3).\n",
        "El IQR contiene el 50% central de los datos.\n",
        "\n",
        "2. **Línea Mediana (Median Line)**:\n",
        " - Una línea dentro de la caja que indica la mediana del conjunto de datos.Divide los datos en dos mitades iguales.\n",
        "\n",
        "3. **Bigotes (Whiskers)**:\n",
        " - Líneas que se extienden desde los cuartiles hasta el valor mínimo y máximo, dentro de un rango definido.\n",
        " Por defecto, los bigotes se extienden hasta 1.5 veces el rango intercuartílico desde los cuartiles.\n",
        "\n",
        "4. **Valores Atípicos (Outliers)**:\n",
        " - Datos que se encuentran fuera del rango de los bigotes.\n",
        "Se representan generalmente como puntos individuales.\n",
        "\n",
        "5. **Rango Intercuartílico (IQR)**:\n",
        " - La diferencia entre el tercer cuartil (Q3) y el primer cuartil (Q1). Mide la dispersión de los datos y se utiliza para identificar los valores atípicos.\n",
        "\n",
        "**<u>Interpretación</u>**:\n",
        "- **Simetría**: Si la mediana está centrada dentro de la caja y los bigotes son de longitud similar, los datos son simétricos.\n",
        "- **Sesgo**: Si la mediana no está centrada o los bigotes son de longitud desigual, puede indicar un sesgo hacia un lado.\n",
        "- **Valores Atípicos**: Identifican puntos que se desvían significativamente del resto de los datos, proporcionando información sobre la variabilidad.\n",
        "\n",
        "Los diagramas de caja y bigotes son útiles para comparar distribuciones entre diferentes grupos y detectar la presencia de valores extremos o anómalos en los datos\n"
      ],
      "metadata": {
        "id": "ufcTxb5aQZmQ"
      }
    },
    {
      "cell_type": "code",
      "source": [
        "# Cargar librerías necesarias\n",
        "library(ggplot2)\n",
        "library(dplyr)\n",
        "\n",
        "# Convertir 'member_casual' a factor para usar en el boxplot\n",
        "datos$member_casual <- as.factor(datos$member_casual)\n",
        "\n",
        "# Asegurarse de que 'ride_length' es numérico\n",
        "# Si 'ride_length' es de tipo difftime, convertirlo a minutos numéricos\n",
        "if (inherits(datos$ride_length, \"difftime\")) {\n",
        "  datos$ride_length <- as.numeric(datos$ride_length, units = \"mins\")\n",
        "}\n",
        "\n",
        "# Diagrama de caja para la variable 'ride_length'\n",
        "ggplot(datos, aes(x = member_casual, y = ride_length, fill = member_casual)) +\n",
        "  geom_boxplot() +\n",
        "  labs(title = \"Distribución del tiempo de duración del viaje por tipo de membresía\",\n",
        "       x = \"Tipo de membresía\",\n",
        "       y = \"Duración del viaje (minutos)\") +\n",
        "  theme_minimal() +\n",
        "  scale_fill_manual(values = c(\"casual\" = \"lightblue\", \"member\" = \"lightgreen\"))\n"
      ],
      "metadata": {
        "colab": {
          "base_uri": "https://localhost:8080/",
          "height": 437
        },
        "id": "ezhGrzS_fI5-",
        "outputId": "129f29db-3856-45a4-de57-0c1449c27311"
      },
      "execution_count": null,
      "outputs": [
        {
          "output_type": "display_data",
          "data": {
            "text/plain": [
              "plot without title"
            ],
            "image/png": "[encoded data removed]"
          },
          "metadata": {
            "image/png": {
              "width": 420,
              "height": 420
            }
          }
        }
      ]
    },
    {
      "cell_type": "markdown",
      "source": [
        "**Análisis del Diagrama de Caja-Bigote**\n",
        "\n",
        "El diagrama de caja-bigote muestra la distribución del tiempo de duración del viaje (ride_length) en minutos para dos tipos de membresía:\n",
        "- casual\n",
        "- y member.\n",
        "\n",
        "<u>Observaciones</u>:\n",
        "\n",
        "La mediana del tiempo de viaje para los miembros es menor que la mediana del tiempo de viaje para los ciclistas ocasionales. Esto significa que, en general, los miembros realizan viajes más cortos que los ciclistas ocasionales.\n",
        "El rango intercuartilico (IQR) para los miembros es menor que"
      ],
      "metadata": {
        "id": "SKxF-XLxggVY"
      }
    },
    {
      "cell_type": "markdown",
      "source": [
        "# **5. Análisis Descriptivo**\n",
        "**Funciones del Análisis Descriptivo:**\n",
        "\n",
        "- <u>Resumir Datos</u>: Utiliza medidas como la media, mediana, moda, desviación estándar, y percentiles para resumir la distribución de los datos.\n",
        "- <u>Identificar Patrones</u>: Ayuda a identificar patrones y tendencias en los datos mediante el uso de gráficos como histogramas, diagramas de caja, y diagramas de dispersión.\n",
        "- <u>Detectar Valores Atípicos</u>: Permite identificar valores extremos o atípicos que podrían influir en los resultados del análisis.\n",
        "\n",
        "\n",
        "Calculemos algunas estadísticas descriptivas clave para comprender mejor los datos con respecto a la variable relevante que es la duración del viaje."
      ],
      "metadata": {
        "id": "kzXe9qI39HRX"
      }
    },
    {
      "cell_type": "code",
      "source": [
        "# Análisis descriptivo de ride_length (todas las cifras en segundos)\n",
        "print(paste(\"Duración de viaje promedio:\", mean(datos$ride_length))) #promedio directo (longitud total del recorrido / recorridos)\n",
        "\n",
        "print(paste(\"Duración de viaje en el punto medio:\", median(datos$ride_length))) #número de punto medio en el conjunto ascendente de duraciones de recorrido\n",
        "print(paste(\"Duración de viaje más largo:\",max(datos$ride_length))) #Viaje más largo\n",
        "print(paste(\"Duración de viaje más corto:\", min(datos$ride_length))) #Viaje más corto"
      ],
      "metadata": {
        "trusted": true,
        "colab": {
          "base_uri": "https://localhost:8080/"
        },
        "id": "qsNCBIjq9HRX",
        "outputId": "9de669c5-88e8-46da-b720-43d19b0d52a0"
      },
      "execution_count": null,
      "outputs": [
        {
          "output_type": "stream",
          "name": "stdout",
          "text": [
            "[1] \"Duración de viaje promedio: 3888.03373959374\"\n",
            "[1] \"Duración de viaje en el punto medio: 0.15\"\n",
            "[1] \"Duración de viaje más largo: 6837119.13333333\"\n",
            "[1] \"Duración de viaje más corto: 0\"\n"
          ]
        }
      ]
    },
    {
      "cell_type": "markdown",
      "source": [
        "Puedes condensar las cuatro líneas anteriores en una línea usando resumen() en el atributo específico:"
      ],
      "metadata": {
        "id": "JXIQACGu9HRX"
      }
    },
    {
      "cell_type": "code",
      "source": [
        "#Resumen de la columna \"ride_length\"\n",
        "summary(datos$ride_length)"
      ],
      "metadata": {
        "trusted": true,
        "colab": {
          "base_uri": "https://localhost:8080/",
          "height": 52
        },
        "id": "dSO92YSC9HRY",
        "outputId": "d51701a5-918d-469e-ee49-35c4682c30f0"
      },
      "execution_count": null,
      "outputs": [
        {
          "output_type": "display_data",
          "data": {
            "text/plain": [
              "   Min. 1st Qu.  Median    Mean 3rd Qu.    Max. \n",
              "      0       0       0    3888       0 6837119 "
            ]
          },
          "metadata": {}
        }
      ]
    },
    {
      "cell_type": "code",
      "source": [
        "glimpse(datos$ride_length)"
      ],
      "metadata": {
        "colab": {
          "base_uri": "https://localhost:8080/"
        },
        "id": "_CbVCLuUP1YX",
        "outputId": "01c41fe7-4c7b-4040-d7ba-71e876d3cef7"
      },
      "execution_count": null,
      "outputs": [
        {
          "output_type": "stream",
          "name": "stdout",
          "text": [
            " num [1:5005] 0.1 0.4333 0.0833 0.45 0.1333 ...\n"
          ]
        }
      ]
    },
    {
      "cell_type": "markdown",
      "source": [
        "La función sapply() se puede utilizar con funciones de resumen específicas para obtener estadísticas descriptivas para cada variable en un data frame."
      ],
      "metadata": {
        "id": "wUjRXH84Q_Dd"
      }
    },
    {
      "cell_type": "code",
      "source": [
        "sapply(datos, summary)"
      ],
      "metadata": {
        "colab": {
          "base_uri": "https://localhost:8080/",
          "height": 1000
        },
        "id": "20mom4w3QxXB",
        "outputId": "b65690fc-ab84-49b9-83cf-a27535d85316"
      },
      "execution_count": null,
      "outputs": [
        {
          "output_type": "display_data",
          "data": {
            "text/plain": [
              "$ride_id\n",
              "   Length     Class      Mode \n",
              "     5005 character character \n",
              "\n",
              "$rideable_type\n",
              "   Length     Class      Mode \n",
              "     5005 character character \n",
              "\n",
              "$started_at\n",
              "                      Min.                    1st Qu. \n",
              "\"2001-01-20 23:00:38.0000\" \"2008-01-20 23:12:36.0000\" \n",
              "                    Median                       Mean \n",
              "\"2015-07-20 22:14:06.0000\" \"2015-11-04 15:35:57.1967\" \n",
              "                   3rd Qu.                       Max. \n",
              "\"2023-05-20 23:18:01.0000\" \"2031-12-20 22:19:46.0000\" \n",
              "\n",
              "$ended_at\n",
              "                      Min.                    1st Qu. \n",
              "\"2001-01-20 23:01:08.0000\" \"2008-01-20 23:13:23.0000\" \n",
              "                    Median                       Mean \n",
              "\"2015-07-20 22:17:00.0000\" \"2015-11-07 08:23:59.2211\" \n",
              "                   3rd Qu.                       Max. \n",
              "\"2023-05-20 23:18:29.0000\" \"2031-12-20 22:23:14.0000\" \n",
              "\n",
              "$start_station_name\n",
              "   Length     Class      Mode \n",
              "     5005 character character \n",
              "\n",
              "$start_station_id\n",
              "   Length     Class      Mode \n",
              "     5005 character character \n",
              "\n",
              "$end_station_name\n",
              "   Length     Class      Mode \n",
              "     5005 character character \n",
              "\n",
              "$end_station_id\n",
              "   Length     Class      Mode \n",
              "     5005 character character \n",
              "\n",
              "$member_casual\n",
              "casual member \n",
              "  1752   3253 \n",
              "\n",
              "$ride_length\n",
              "   Min. 1st Qu.  Median    Mean 3rd Qu.    Max. \n",
              "      0       0       0    3888       0 6837119 \n",
              "\n",
              "$date\n",
              "        Min.      1st Qu.       Median         Mean      3rd Qu.         Max. \n",
              "\"2001-01-20\" \"2008-01-20\" \"2015-07-20\" \"2015-11-03\" \"2023-05-20\" \"2031-12-20\" \n",
              "\n",
              "$month\n",
              "   Length     Class      Mode \n",
              "     5005 character character \n",
              "\n",
              "$day\n",
              "   Length     Class      Mode \n",
              "     5005 character character \n",
              "\n",
              "$year\n",
              "   Length     Class      Mode \n",
              "     5005 character character \n",
              "\n",
              "$day_of_week\n",
              "   Length     Class      Mode \n",
              "     5005 character character \n"
            ]
          },
          "metadata": {}
        }
      ]
    },
    {
      "cell_type": "markdown",
      "source": [
        "El paquete psych proporciona la función describe() que ofrece un conjunto más amplio de estadísticas descriptivas."
      ],
      "metadata": {
        "id": "djqf0MJFRKc6"
      }
    },
    {
      "cell_type": "code",
      "source": [
        "# Instalar y cargar el paquete\n",
        "install.packages(\"psych\")\n",
        "library(psych)\n",
        "\n",
        "# Describir los datos\n",
        "describe(datos)"
      ],
      "metadata": {
        "colab": {
          "base_uri": "https://localhost:8080/",
          "height": 1000
        },
        "id": "SjXeRAxMRIpe",
        "outputId": "85d73d89-06cc-40a3-da8a-b9c6d83b0592"
      },
      "execution_count": null,
      "outputs": [
        {
          "output_type": "stream",
          "name": "stderr",
          "text": [
            "Installing package into ‘/usr/local/lib/R/site-library’\n",
            "(as ‘lib’ is unspecified)\n",
            "\n",
            "also installing the dependencies ‘mnormt’, ‘GPArotation’\n",
            "\n",
            "\n",
            "\n",
            "Attaching package: ‘psych’\n",
            "\n",
            "\n",
            "The following objects are masked from ‘package:ggplot2’:\n",
            "\n",
            "    %+%, alpha\n",
            "\n",
            "\n",
            "Warning message in FUN(newX[, i], ...):\n",
            "“no non-missing arguments to min; returning Inf”\n",
            "Warning message in FUN(newX[, i], ...):\n",
            "“no non-missing arguments to min; returning Inf”\n",
            "Warning message in FUN(newX[, i], ...):\n",
            "“no non-missing arguments to min; returning Inf”\n",
            "Warning message in FUN(newX[, i], ...):\n",
            "“no non-missing arguments to max; returning -Inf”\n",
            "Warning message in FUN(newX[, i], ...):\n",
            "“no non-missing arguments to max; returning -Inf”\n",
            "Warning message in FUN(newX[, i], ...):\n",
            "“no non-missing arguments to max; returning -Inf”\n"
          ]
        },
        {
          "output_type": "display_data",
          "data": {
            "text/html": [
              "<table class=\"dataframe\">\n",
              "<caption>A psych: 15 × 13</caption>\n",
              "<thead>\n",
              "\t<tr><th></th><th scope=col>vars</th><th scope=col>n</th><th scope=col>mean</th><th scope=col>sd</th><th scope=col>median</th><th scope=col>trimmed</th><th scope=col>mad</th><th scope=col>min</th><th scope=col>max</th><th scope=col>range</th><th scope=col>skew</th><th scope=col>kurtosis</th><th scope=col>se</th></tr>\n",
              "\t<tr><th></th><th scope=col>&lt;int&gt;</th><th scope=col>&lt;dbl&gt;</th><th scope=col>&lt;dbl&gt;</th><th scope=col>&lt;dbl&gt;</th><th scope=col>&lt;dbl&gt;</th><th scope=col>&lt;dbl&gt;</th><th scope=col>&lt;dbl&gt;</th><th scope=col>&lt;dbl&gt;</th><th scope=col>&lt;dbl&gt;</th><th scope=col>&lt;dbl&gt;</th><th scope=col>&lt;dbl&gt;</th><th scope=col>&lt;dbl&gt;</th><th scope=col>&lt;dbl&gt;</th></tr>\n",
              "</thead>\n",
              "<tbody>\n",
              "\t<tr><th scope=row>ride_id*</th><td> 1</td><td>5005</td><td>2501.280519</td><td>1.444554e+03</td><td>2501.00</td><td>2501.1126092</td><td>1854.73260</td><td>  1</td><td>   5003</td><td>   5002</td><td> 0.000675921</td><td>  -1.201201</td><td>2.041888e+01</td></tr>\n",
              "\t<tr><th scope=row>rideable_type*</th><td> 2</td><td>5005</td><td>   2.105694</td><td>9.846025e-01</td><td>   3.00</td><td>   2.1320849</td><td>   0.00000</td><td>  1</td><td>      3</td><td>      2</td><td>-0.212483325</td><td>  -1.934820</td><td>1.391742e-02</td></tr>\n",
              "\t<tr><th scope=row>started_at</th><td> 3</td><td>5005</td><td>        NaN</td><td>          NA</td><td>     NA</td><td>         NaN</td><td>        NA</td><td>Inf</td><td>   -Inf</td><td>   -Inf</td><td>          NA</td><td>         NA</td><td>          NA</td></tr>\n",
              "\t<tr><th scope=row>ended_at</th><td> 4</td><td>5005</td><td>        NaN</td><td>          NA</td><td>     NA</td><td>         NaN</td><td>        NA</td><td>Inf</td><td>   -Inf</td><td>   -Inf</td><td>          NA</td><td>         NA</td><td>          NA</td></tr>\n",
              "\t<tr><th scope=row>start_station_name*</th><td> 5</td><td>5005</td><td> 240.956044</td><td>1.814991e+02</td><td> 216.00</td><td> 234.5875156</td><td> 241.66380</td><td>  1</td><td>    568</td><td>    567</td><td> 0.197922463</td><td>  -1.292389</td><td>2.565502e+00</td></tr>\n",
              "\t<tr><th scope=row>start_station_id*</th><td> 6</td><td>5005</td><td> 250.855345</td><td>2.014989e+02</td><td> 262.00</td><td> 245.8541823</td><td> 296.52000</td><td>  1</td><td>    561</td><td>    560</td><td> 0.063575970</td><td>  -1.619884</td><td>2.848201e+00</td></tr>\n",
              "\t<tr><th scope=row>end_station_name*</th><td> 7</td><td>5005</td><td> 235.294106</td><td>1.792317e+02</td><td> 211.00</td><td> 229.0676654</td><td> 240.18120</td><td>  1</td><td>    559</td><td>    558</td><td> 0.178960075</td><td>  -1.322185</td><td>2.533453e+00</td></tr>\n",
              "\t<tr><th scope=row>end_station_id*</th><td> 8</td><td>5005</td><td> 243.033766</td><td>1.994199e+02</td><td> 228.00</td><td> 237.1635456</td><td> 303.93300</td><td>  1</td><td>    554</td><td>    553</td><td> 0.083156802</td><td>  -1.627123</td><td>2.818815e+00</td></tr>\n",
              "\t<tr><th scope=row>member_casual*</th><td> 9</td><td>5005</td><td>   1.649950</td><td>4.770330e-01</td><td>   2.00</td><td>   1.6873908</td><td>   0.00000</td><td>  1</td><td>      2</td><td>      1</td><td>-0.628552327</td><td>  -1.605243</td><td>6.742894e-03</td></tr>\n",
              "\t<tr><th scope=row>ride_length</th><td>10</td><td>5005</td><td>3888.033740</td><td>1.094511e+05</td><td>   0.15</td><td>   0.1800749</td><td>   0.12355</td><td>  0</td><td>6837119</td><td>6837119</td><td>51.521989164</td><td>3078.022073</td><td>1.547099e+03</td></tr>\n",
              "\t<tr><th scope=row>date</th><td>11</td><td>5005</td><td>        NaN</td><td>          NA</td><td>     NA</td><td>         NaN</td><td>        NA</td><td>Inf</td><td>   -Inf</td><td>   -Inf</td><td>          NA</td><td>         NA</td><td>          NA</td></tr>\n",
              "\t<tr><th scope=row>month*</th><td>12</td><td>5005</td><td>   6.538462</td><td>3.319631e+00</td><td>   7.00</td><td>   6.5480649</td><td>   4.44780</td><td>  1</td><td>     12</td><td>     11</td><td>-0.034490027</td><td>  -1.074338</td><td>4.692322e-02</td></tr>\n",
              "\t<tr><th scope=row>day*</th><td>13</td><td>5005</td><td>   1.000000</td><td>0.000000e+00</td><td>   1.00</td><td>   1.0000000</td><td>   0.00000</td><td>  1</td><td>      1</td><td>      0</td><td>         NaN</td><td>        NaN</td><td>0.000000e+00</td></tr>\n",
              "\t<tr><th scope=row>year*</th><td>14</td><td>5005</td><td>  15.327872</td><td>8.840750e+00</td><td>  15.00</td><td>  15.2192260</td><td>  11.86080</td><td>  1</td><td>     31</td><td>     30</td><td> 0.088931312</td><td>  -1.200351</td><td>1.249646e-01</td></tr>\n",
              "\t<tr><th scope=row>day_of_week*</th><td>15</td><td>5005</td><td>   3.974026</td><td>1.965054e+00</td><td>   4.00</td><td>   3.9675406</td><td>   2.96520</td><td>  1</td><td>      7</td><td>      6</td><td>-0.006589502</td><td>  -1.219196</td><td>2.777617e-02</td></tr>\n",
              "</tbody>\n",
              "</table>\n"
            ],
            "text/markdown": "\nA psych: 15 × 13\n\n| <!--/--> | vars &lt;int&gt; | n &lt;dbl&gt; | mean &lt;dbl&gt; | sd &lt;dbl&gt; | median &lt;dbl&gt; | trimmed &lt;dbl&gt; | mad &lt;dbl&gt; | min &lt;dbl&gt; | max &lt;dbl&gt; | range &lt;dbl&gt; | skew &lt;dbl&gt; | kurtosis &lt;dbl&gt; | se &lt;dbl&gt; |\n|---|---|---|---|---|---|---|---|---|---|---|---|---|---|\n| ride_id* |  1 | 5005 | 2501.280519 | 1.444554e+03 | 2501.00 | 2501.1126092 | 1854.73260 |   1 |    5003 |    5002 |  0.000675921 |   -1.201201 | 2.041888e+01 |\n| rideable_type* |  2 | 5005 |    2.105694 | 9.846025e-01 |    3.00 |    2.1320849 |    0.00000 |   1 |       3 |       2 | -0.212483325 |   -1.934820 | 1.391742e-02 |\n| started_at |  3 | 5005 |         NaN |           NA |      NA |          NaN |         NA | Inf |    -Inf |    -Inf |           NA |          NA |           NA |\n| ended_at |  4 | 5005 |         NaN |           NA |      NA |          NaN |         NA | Inf |    -Inf |    -Inf |           NA |          NA |           NA |\n| start_station_name* |  5 | 5005 |  240.956044 | 1.814991e+02 |  216.00 |  234.5875156 |  241.66380 |   1 |     568 |     567 |  0.197922463 |   -1.292389 | 2.565502e+00 |\n| start_station_id* |  6 | 5005 |  250.855345 | 2.014989e+02 |  262.00 |  245.8541823 |  296.52000 |   1 |     561 |     560 |  0.063575970 |   -1.619884 | 2.848201e+00 |\n| end_station_name* |  7 | 5005 |  235.294106 | 1.792317e+02 |  211.00 |  229.0676654 |  240.18120 |   1 |     559 |     558 |  0.178960075 |   -1.322185 | 2.533453e+00 |\n| end_station_id* |  8 | 5005 |  243.033766 | 1.994199e+02 |  228.00 |  237.1635456 |  303.93300 |   1 |     554 |     553 |  0.083156802 |   -1.627123 | 2.818815e+00 |\n| member_casual* |  9 | 5005 |    1.649950 | 4.770330e-01 |    2.00 |    1.6873908 |    0.00000 |   1 |       2 |       1 | -0.628552327 |   -1.605243 | 6.742894e-03 |\n| ride_length | 10 | 5005 | 3888.033740 | 1.094511e+05 |    0.15 |    0.1800749 |    0.12355 |   0 | 6837119 | 6837119 | 51.521989164 | 3078.022073 | 1.547099e+03 |\n| date | 11 | 5005 |         NaN |           NA |      NA |          NaN |         NA | Inf |    -Inf |    -Inf |           NA |          NA |           NA |\n| month* | 12 | 5005 |    6.538462 | 3.319631e+00 |    7.00 |    6.5480649 |    4.44780 |   1 |      12 |      11 | -0.034490027 |   -1.074338 | 4.692322e-02 |\n| day* | 13 | 5005 |    1.000000 | 0.000000e+00 |    1.00 |    1.0000000 |    0.00000 |   1 |       1 |       0 |          NaN |         NaN | 0.000000e+00 |\n| year* | 14 | 5005 |   15.327872 | 8.840750e+00 |   15.00 |   15.2192260 |   11.86080 |   1 |      31 |      30 |  0.088931312 |   -1.200351 | 1.249646e-01 |\n| day_of_week* | 15 | 5005 |    3.974026 | 1.965054e+00 |    4.00 |    3.9675406 |    2.96520 |   1 |       7 |       6 | -0.006589502 |   -1.219196 | 2.777617e-02 |\n\n",
            "text/latex": "A psych: 15 × 13\n\\begin{tabular}{r|lllllllllllll}\n  & vars & n & mean & sd & median & trimmed & mad & min & max & range & skew & kurtosis & se\\\\\n  & <int> & <dbl> & <dbl> & <dbl> & <dbl> & <dbl> & <dbl> & <dbl> & <dbl> & <dbl> & <dbl> & <dbl> & <dbl>\\\\\n\\hline\n\tride\\_id* &  1 & 5005 & 2501.280519 & 1.444554e+03 & 2501.00 & 2501.1126092 & 1854.73260 &   1 &    5003 &    5002 &  0.000675921 &   -1.201201 & 2.041888e+01\\\\\n\trideable\\_type* &  2 & 5005 &    2.105694 & 9.846025e-01 &    3.00 &    2.1320849 &    0.00000 &   1 &       3 &       2 & -0.212483325 &   -1.934820 & 1.391742e-02\\\\\n\tstarted\\_at &  3 & 5005 &         NaN &           NA &      NA &          NaN &         NA & Inf &    -Inf &    -Inf &           NA &          NA &           NA\\\\\n\tended\\_at &  4 & 5005 &         NaN &           NA &      NA &          NaN &         NA & Inf &    -Inf &    -Inf &           NA &          NA &           NA\\\\\n\tstart\\_station\\_name* &  5 & 5005 &  240.956044 & 1.814991e+02 &  216.00 &  234.5875156 &  241.66380 &   1 &     568 &     567 &  0.197922463 &   -1.292389 & 2.565502e+00\\\\\n\tstart\\_station\\_id* &  6 & 5005 &  250.855345 & 2.014989e+02 &  262.00 &  245.8541823 &  296.52000 &   1 &     561 &     560 &  0.063575970 &   -1.619884 & 2.848201e+00\\\\\n\tend\\_station\\_name* &  7 & 5005 &  235.294106 & 1.792317e+02 &  211.00 &  229.0676654 &  240.18120 &   1 &     559 &     558 &  0.178960075 &   -1.322185 & 2.533453e+00\\\\\n\tend\\_station\\_id* &  8 & 5005 &  243.033766 & 1.994199e+02 &  228.00 &  237.1635456 &  303.93300 &   1 &     554 &     553 &  0.083156802 &   -1.627123 & 2.818815e+00\\\\\n\tmember\\_casual* &  9 & 5005 &    1.649950 & 4.770330e-01 &    2.00 &    1.6873908 &    0.00000 &   1 &       2 &       1 & -0.628552327 &   -1.605243 & 6.742894e-03\\\\\n\tride\\_length & 10 & 5005 & 3888.033740 & 1.094511e+05 &    0.15 &    0.1800749 &    0.12355 &   0 & 6837119 & 6837119 & 51.521989164 & 3078.022073 & 1.547099e+03\\\\\n\tdate & 11 & 5005 &         NaN &           NA &      NA &          NaN &         NA & Inf &    -Inf &    -Inf &           NA &          NA &           NA\\\\\n\tmonth* & 12 & 5005 &    6.538462 & 3.319631e+00 &    7.00 &    6.5480649 &    4.44780 &   1 &      12 &      11 & -0.034490027 &   -1.074338 & 4.692322e-02\\\\\n\tday* & 13 & 5005 &    1.000000 & 0.000000e+00 &    1.00 &    1.0000000 &    0.00000 &   1 &       1 &       0 &          NaN &         NaN & 0.000000e+00\\\\\n\tyear* & 14 & 5005 &   15.327872 & 8.840750e+00 &   15.00 &   15.2192260 &   11.86080 &   1 &      31 &      30 &  0.088931312 &   -1.200351 & 1.249646e-01\\\\\n\tday\\_of\\_week* & 15 & 5005 &    3.974026 & 1.965054e+00 &    4.00 &    3.9675406 &    2.96520 &   1 &       7 &       6 & -0.006589502 &   -1.219196 & 2.777617e-02\\\\\n\\end{tabular}\n",
            "text/plain": [
              "                    vars n    mean        sd           median  trimmed     \n",
              "ride_id*             1   5005 2501.280519 1.444554e+03 2501.00 2501.1126092\n",
              "rideable_type*       2   5005    2.105694 9.846025e-01    3.00    2.1320849\n",
              "started_at           3   5005         NaN           NA      NA          NaN\n",
              "ended_at             4   5005         NaN           NA      NA          NaN\n",
              "start_station_name*  5   5005  240.956044 1.814991e+02  216.00  234.5875156\n",
              "start_station_id*    6   5005  250.855345 2.014989e+02  262.00  245.8541823\n",
              "end_station_name*    7   5005  235.294106 1.792317e+02  211.00  229.0676654\n",
              "end_station_id*      8   5005  243.033766 1.994199e+02  228.00  237.1635456\n",
              "member_casual*       9   5005    1.649950 4.770330e-01    2.00    1.6873908\n",
              "ride_length         10   5005 3888.033740 1.094511e+05    0.15    0.1800749\n",
              "date                11   5005         NaN           NA      NA          NaN\n",
              "month*              12   5005    6.538462 3.319631e+00    7.00    6.5480649\n",
              "day*                13   5005    1.000000 0.000000e+00    1.00    1.0000000\n",
              "year*               14   5005   15.327872 8.840750e+00   15.00   15.2192260\n",
              "day_of_week*        15   5005    3.974026 1.965054e+00    4.00    3.9675406\n",
              "                    mad        min max     range   skew         kurtosis   \n",
              "ride_id*            1854.73260   1    5003    5002  0.000675921   -1.201201\n",
              "rideable_type*         0.00000   1       3       2 -0.212483325   -1.934820\n",
              "started_at                  NA Inf    -Inf    -Inf           NA          NA\n",
              "ended_at                    NA Inf    -Inf    -Inf           NA          NA\n",
              "start_station_name*  241.66380   1     568     567  0.197922463   -1.292389\n",
              "start_station_id*    296.52000   1     561     560  0.063575970   -1.619884\n",
              "end_station_name*    240.18120   1     559     558  0.178960075   -1.322185\n",
              "end_station_id*      303.93300   1     554     553  0.083156802   -1.627123\n",
              "member_casual*         0.00000   1       2       1 -0.628552327   -1.605243\n",
              "ride_length            0.12355   0 6837119 6837119 51.521989164 3078.022073\n",
              "date                        NA Inf    -Inf    -Inf           NA          NA\n",
              "month*                 4.44780   1      12      11 -0.034490027   -1.074338\n",
              "day*                   0.00000   1       1       0          NaN         NaN\n",
              "year*                 11.86080   1      31      30  0.088931312   -1.200351\n",
              "day_of_week*           2.96520   1       7       6 -0.006589502   -1.219196\n",
              "                    se          \n",
              "ride_id*            2.041888e+01\n",
              "rideable_type*      1.391742e-02\n",
              "started_at                    NA\n",
              "ended_at                      NA\n",
              "start_station_name* 2.565502e+00\n",
              "start_station_id*   2.848201e+00\n",
              "end_station_name*   2.533453e+00\n",
              "end_station_id*     2.818815e+00\n",
              "member_casual*      6.742894e-03\n",
              "ride_length         1.547099e+03\n",
              "date                          NA\n",
              "month*              4.692322e-02\n",
              "day*                0.000000e+00\n",
              "year*               1.249646e-01\n",
              "day_of_week*        2.777617e-02"
            ]
          },
          "metadata": {}
        }
      ]
    },
    {
      "cell_type": "markdown",
      "source": [
        "Ahora se muestra una comparación estadística entre los miembros con respecto a los usuarios casuales:"
      ],
      "metadata": {
        "id": "JV_WEJnk9HRY"
      }
    },
    {
      "cell_type": "code",
      "source": [
        "# Comparar miembros y usuarios ocasionales\n",
        "aggregate(datos$ride_length ~ datos$member_casual, FUN = mean)\n",
        "aggregate(datos$ride_length ~ datos$member_casual, FUN = median)\n",
        "aggregate(datos$ride_length ~ datos$member_casual, FUN = max)\n",
        "aggregate(datos$ride_length ~ datos$member_casual, FUN = min)"
      ],
      "metadata": {
        "trusted": true,
        "colab": {
          "base_uri": "https://localhost:8080/",
          "height": 593
        },
        "id": "JYiHq8gj9HRY",
        "outputId": "ae729ad5-f17f-4395-f734-4de089febd87"
      },
      "execution_count": null,
      "outputs": [
        {
          "output_type": "display_data",
          "data": {
            "text/html": [
              "<table class=\"dataframe\">\n",
              "<caption>A data.frame: 2 × 2</caption>\n",
              "<thead>\n",
              "\t<tr><th scope=col>datos$member_casual</th><th scope=col>datos$ride_length</th></tr>\n",
              "\t<tr><th scope=col>&lt;fct&gt;</th><th scope=col>&lt;dbl&gt;</th></tr>\n",
              "</thead>\n",
              "<tbody>\n",
              "\t<tr><td>casual</td><td>9605.1353</td></tr>\n",
              "\t<tr><td>member</td><td> 808.9185</td></tr>\n",
              "</tbody>\n",
              "</table>\n"
            ],
            "text/markdown": "\nA data.frame: 2 × 2\n\n| datos$member_casual &lt;fct&gt; | datos$ride_length &lt;dbl&gt; |\n|---|---|\n| casual | 9605.1353 |\n| member |  808.9185 |\n\n",
            "text/latex": "A data.frame: 2 × 2\n\\begin{tabular}{ll}\n datos\\$member\\_casual & datos\\$ride\\_length\\\\\n <fct> & <dbl>\\\\\n\\hline\n\t casual & 9605.1353\\\\\n\t member &  808.9185\\\\\n\\end{tabular}\n",
            "text/plain": [
              "  datos$member_casual datos$ride_length\n",
              "1 casual              9605.1353        \n",
              "2 member               808.9185        "
            ]
          },
          "metadata": {}
        },
        {
          "output_type": "display_data",
          "data": {
            "text/html": [
              "<table class=\"dataframe\">\n",
              "<caption>A data.frame: 2 × 2</caption>\n",
              "<thead>\n",
              "\t<tr><th scope=col>datos$member_casual</th><th scope=col>datos$ride_length</th></tr>\n",
              "\t<tr><th scope=col>&lt;fct&gt;</th><th scope=col>&lt;dbl&gt;</th></tr>\n",
              "</thead>\n",
              "<tbody>\n",
              "\t<tr><td>casual</td><td>0.1833333</td></tr>\n",
              "\t<tr><td>member</td><td>0.1333333</td></tr>\n",
              "</tbody>\n",
              "</table>\n"
            ],
            "text/markdown": "\nA data.frame: 2 × 2\n\n| datos$member_casual &lt;fct&gt; | datos$ride_length &lt;dbl&gt; |\n|---|---|\n| casual | 0.1833333 |\n| member | 0.1333333 |\n\n",
            "text/latex": "A data.frame: 2 × 2\n\\begin{tabular}{ll}\n datos\\$member\\_casual & datos\\$ride\\_length\\\\\n <fct> & <dbl>\\\\\n\\hline\n\t casual & 0.1833333\\\\\n\t member & 0.1333333\\\\\n\\end{tabular}\n",
            "text/plain": [
              "  datos$member_casual datos$ride_length\n",
              "1 casual              0.1833333        \n",
              "2 member              0.1333333        "
            ]
          },
          "metadata": {}
        },
        {
          "output_type": "display_data",
          "data": {
            "text/html": [
              "<table class=\"dataframe\">\n",
              "<caption>A data.frame: 2 × 2</caption>\n",
              "<thead>\n",
              "\t<tr><th scope=col>datos$member_casual</th><th scope=col>datos$ride_length</th></tr>\n",
              "\t<tr><th scope=col>&lt;fct&gt;</th><th scope=col>&lt;dbl&gt;</th></tr>\n",
              "</thead>\n",
              "<tbody>\n",
              "\t<tr><td>casual</td><td>6837119</td></tr>\n",
              "\t<tr><td>member</td><td> 527041</td></tr>\n",
              "</tbody>\n",
              "</table>\n"
            ],
            "text/markdown": "\nA data.frame: 2 × 2\n\n| datos$member_casual &lt;fct&gt; | datos$ride_length &lt;dbl&gt; |\n|---|---|\n| casual | 6837119 |\n| member |  527041 |\n\n",
            "text/latex": "A data.frame: 2 × 2\n\\begin{tabular}{ll}\n datos\\$member\\_casual & datos\\$ride\\_length\\\\\n <fct> & <dbl>\\\\\n\\hline\n\t casual & 6837119\\\\\n\t member &  527041\\\\\n\\end{tabular}\n",
            "text/plain": [
              "  datos$member_casual datos$ride_length\n",
              "1 casual              6837119          \n",
              "2 member               527041          "
            ]
          },
          "metadata": {}
        },
        {
          "output_type": "display_data",
          "data": {
            "text/html": [
              "<table class=\"dataframe\">\n",
              "<caption>A data.frame: 2 × 2</caption>\n",
              "<thead>\n",
              "\t<tr><th scope=col>datos$member_casual</th><th scope=col>datos$ride_length</th></tr>\n",
              "\t<tr><th scope=col>&lt;fct&gt;</th><th scope=col>&lt;dbl&gt;</th></tr>\n",
              "</thead>\n",
              "<tbody>\n",
              "\t<tr><td>casual</td><td>0</td></tr>\n",
              "\t<tr><td>member</td><td>0</td></tr>\n",
              "</tbody>\n",
              "</table>\n"
            ],
            "text/markdown": "\nA data.frame: 2 × 2\n\n| datos$member_casual &lt;fct&gt; | datos$ride_length &lt;dbl&gt; |\n|---|---|\n| casual | 0 |\n| member | 0 |\n\n",
            "text/latex": "A data.frame: 2 × 2\n\\begin{tabular}{ll}\n datos\\$member\\_casual & datos\\$ride\\_length\\\\\n <fct> & <dbl>\\\\\n\\hline\n\t casual & 0\\\\\n\t member & 0\\\\\n\\end{tabular}\n",
            "text/plain": [
              "  datos$member_casual datos$ride_length\n",
              "1 casual              0                \n",
              "2 member              0                "
            ]
          },
          "metadata": {}
        }
      ]
    },
    {
      "cell_type": "markdown",
      "source": [
        "A continuación se denota el tiempo promedio de viaje cada día para miembros frente a usuarios ocasionales:"
      ],
      "metadata": {
        "id": "lgbBgLGJ9HRY"
      }
    },
    {
      "cell_type": "code",
      "source": [
        "#Calcular el promedio de la longitud de los viajes (ride_length) agrupados por las variables member_casual y day_of_week del dataframe datos\n",
        "aggregate(datos$ride_length ~ datos$member_casual + datos$day_of_week, FUN = mean)"
      ],
      "metadata": {
        "trusted": true,
        "colab": {
          "base_uri": "https://localhost:8080/",
          "height": 537
        },
        "id": "fOM-Rhs69HRY",
        "outputId": "bd7c75f0-b8d8-45b9-ebc7-909c0a5533e6"
      },
      "execution_count": null,
      "outputs": [
        {
          "output_type": "display_data",
          "data": {
            "text/html": [
              "<table class=\"dataframe\">\n",
              "<caption>A data.frame: 14 × 3</caption>\n",
              "<thead>\n",
              "\t<tr><th scope=col>datos$member_casual</th><th scope=col>datos$day_of_week</th><th scope=col>datos$ride_length</th></tr>\n",
              "\t<tr><th scope=col>&lt;fct&gt;</th><th scope=col>&lt;chr&gt;</th><th scope=col>&lt;dbl&gt;</th></tr>\n",
              "</thead>\n",
              "<tbody>\n",
              "\t<tr><td>casual</td><td>Friday   </td><td>8.382088e+03</td></tr>\n",
              "\t<tr><td>member</td><td>Friday   </td><td>1.148423e+03</td></tr>\n",
              "\t<tr><td>casual</td><td>Monday   </td><td>4.672117e+03</td></tr>\n",
              "\t<tr><td>member</td><td>Monday   </td><td>1.750888e-01</td></tr>\n",
              "\t<tr><td>casual</td><td>Saturday </td><td>7.939332e+03</td></tr>\n",
              "\t<tr><td>member</td><td>Saturday </td><td>2.163076e+03</td></tr>\n",
              "\t<tr><td>casual</td><td>Sunday   </td><td>1.968800e+03</td></tr>\n",
              "\t<tr><td>member</td><td>Sunday   </td><td>1.916482e-01</td></tr>\n",
              "\t<tr><td>casual</td><td>Thursday </td><td>3.492563e+04</td></tr>\n",
              "\t<tr><td>member</td><td>Thursday </td><td>1.057710e+03</td></tr>\n",
              "\t<tr><td>casual</td><td>Tuesday  </td><td>2.894872e-01</td></tr>\n",
              "\t<tr><td>member</td><td>Tuesday  </td><td>1.848269e-01</td></tr>\n",
              "\t<tr><td>casual</td><td>Wednesday</td><td>9.221217e+03</td></tr>\n",
              "\t<tr><td>member</td><td>Wednesday</td><td>1.317724e+03</td></tr>\n",
              "</tbody>\n",
              "</table>\n"
            ],
            "text/markdown": "\nA data.frame: 14 × 3\n\n| datos$member_casual &lt;fct&gt; | datos$day_of_week &lt;chr&gt; | datos$ride_length &lt;dbl&gt; |\n|---|---|---|\n| casual | Friday    | 8.382088e+03 |\n| member | Friday    | 1.148423e+03 |\n| casual | Monday    | 4.672117e+03 |\n| member | Monday    | 1.750888e-01 |\n| casual | Saturday  | 7.939332e+03 |\n| member | Saturday  | 2.163076e+03 |\n| casual | Sunday    | 1.968800e+03 |\n| member | Sunday    | 1.916482e-01 |\n| casual | Thursday  | 3.492563e+04 |\n| member | Thursday  | 1.057710e+03 |\n| casual | Tuesday   | 2.894872e-01 |\n| member | Tuesday   | 1.848269e-01 |\n| casual | Wednesday | 9.221217e+03 |\n| member | Wednesday | 1.317724e+03 |\n\n",
            "text/latex": "A data.frame: 14 × 3\n\\begin{tabular}{lll}\n datos\\$member\\_casual & datos\\$day\\_of\\_week & datos\\$ride\\_length\\\\\n <fct> & <chr> & <dbl>\\\\\n\\hline\n\t casual & Friday    & 8.382088e+03\\\\\n\t member & Friday    & 1.148423e+03\\\\\n\t casual & Monday    & 4.672117e+03\\\\\n\t member & Monday    & 1.750888e-01\\\\\n\t casual & Saturday  & 7.939332e+03\\\\\n\t member & Saturday  & 2.163076e+03\\\\\n\t casual & Sunday    & 1.968800e+03\\\\\n\t member & Sunday    & 1.916482e-01\\\\\n\t casual & Thursday  & 3.492563e+04\\\\\n\t member & Thursday  & 1.057710e+03\\\\\n\t casual & Tuesday   & 2.894872e-01\\\\\n\t member & Tuesday   & 1.848269e-01\\\\\n\t casual & Wednesday & 9.221217e+03\\\\\n\t member & Wednesday & 1.317724e+03\\\\\n\\end{tabular}\n",
            "text/plain": [
              "   datos$member_casual datos$day_of_week datos$ride_length\n",
              "1  casual              Friday            8.382088e+03     \n",
              "2  member              Friday            1.148423e+03     \n",
              "3  casual              Monday            4.672117e+03     \n",
              "4  member              Monday            1.750888e-01     \n",
              "5  casual              Saturday          7.939332e+03     \n",
              "6  member              Saturday          2.163076e+03     \n",
              "7  casual              Sunday            1.968800e+03     \n",
              "8  member              Sunday            1.916482e-01     \n",
              "9  casual              Thursday          3.492563e+04     \n",
              "10 member              Thursday          1.057710e+03     \n",
              "11 casual              Tuesday           2.894872e-01     \n",
              "12 member              Tuesday           1.848269e-01     \n",
              "13 casual              Wednesday         9.221217e+03     \n",
              "14 member              Wednesday         1.317724e+03     "
            ]
          },
          "metadata": {}
        }
      ]
    },
    {
      "cell_type": "markdown",
      "source": [
        "# **6. Análisis estadístico**\n"
      ],
      "metadata": {
        "id": "KtaB5VNGxic2"
      }
    },
    {
      "cell_type": "markdown",
      "source": [
        "Dependiendo del tipo de datos y del problema, se pueden utilizar diferentes técnicas estadísticas como:\n",
        "\n",
        "1.\t**Pruebas de hipótesis**: para determinar si hay evidencia suficiente para rechazar una hipótesis nula.\n",
        "2.\t**Análisis de regresión**: para entender la relación entre variables independientes y dependientes.\n",
        "3.\t**Análisis de varianza (ANOVA**): para comparar las medias de diferentes grupos\n"
      ],
      "metadata": {
        "id": "2Gu3CqevS-Up"
      }
    },
    {
      "cell_type": "markdown",
      "source": [
        "## 6.1. Prueba de Hipótesis y Relevancia de las Variables en el Modelo\n",
        "\n",
        "### Conceptos Básicos\n",
        "Una prueba de hipótesis se utiliza para evaluar si existe suficiente evidencia en una muestra de datos para inferir que una condición es válida para toda la población. En el contexto de modelos de regresión, las pruebas de hipótesis se usan para determinar la relevancia de las variables independientes en la explicación de la variable dependiente.\n",
        "\n",
        "### Formulación de Hipótesis\n",
        "- **Hipótesis Nula (H₀)**: Indica que no hay efecto o relación significativa.   \n",
        " - Por ejemplo, para una variable $X_i$ en un modelo de regresión, $H_0$: $\\beta_i = 0$.\n",
        "\n",
        "- **Hipótesis Alternativa (H₁)**: Indica que sí hay un efecto o relación significativa.\n",
        " - Por ejemplo, $H_1$:  $\\beta_i \\neq 0$ \\.\n",
        "\n",
        "### Procedimiento de Prueba de Hipótesis\n",
        "1. **Seleccionar el Nivel de Significancia $\\(\\alpha\\$)**: Comúnmente se elige 0.05.\n",
        "2. **Calcular el Estadístico de Prueba**:\n",
        "   - En regresión lineal, se usa el estadístico t:\n",
        "$$\n",
        "t = \\frac{\\hat{\\beta}_i}{\\text{SE}(\\hat{\\beta}_i)}\n",
        "$$\n",
        "\n",
        "    - donde $\\hat{\\beta}_i$ es el estimador del coeficiente de la variable $X_i$\n",
        "    - y $\\text{SE}(\\hat{\\beta}_i)$ es el error estándar de $\\hat{\\beta}_i$.\n",
        "\n",
        "3. **Determinar el Valor P**: El valor p refleja la probabilidad de observar un valor del estadístico de prueba al menos tan extremo como el calculado, bajo la suposición de que $H_0$ es verdadera.\n",
        "4. **Tomar una Decisión**:\n",
        "\n",
        "  - Si $\\text{Valor P} \\leq \\alpha$, se rechaza $H_0$.\n",
        "  \n",
        "  - Si $\\text{Valor P} > \\alpha$, no se rechaza $H_0$.\n",
        "\n",
        "\n",
        "\n",
        "### Importancia en Modelos de Regresión\n",
        "Para evaluar la relevancia de las variables, se aplican pruebas de significancia a cada coeficiente del modelo. Si $H_0$ es rechazada para un coeficiente, se concluye que la variable correspondiente tiene un efecto significativo en la variable dependiente.\n",
        "\n",
        "### Ejemplo Práctico\n",
        "Supongamos un modelo de regresión:\n",
        "$\\\n",
        "Y = \\beta_0 + \\beta_1X_1 + \\beta_2X_2 + \\epsilon\n",
        "\\$\n",
        "\n",
        "- ($\\beta_0$, $\\beta_1$, $\\beta_2$, $\\ldots$, $\\beta_k$\\) son los coeficientes de regresión para las variables independientes ($x_1$, $x_2$, $\\ldots$, $x_k$).\n",
        "\n",
        "<br>\n",
        "\n",
        "\\begin{align*}\n",
        "\\text{Hipótesis Nula ($H_0$):} & \\quad \\beta_i = 0 \\quad \\text{(La variable no tiene efecto)} \\\\\n",
        "\\text{Hipótesis Alternativa ($H_1$):} & \\quad \\beta_i \\neq 0 \\quad \\text{(La variable tiene efecto)}\n",
        "\\end{align*}\n",
        "\n",
        "\n",
        "Para evaluar la relevancia de $X_1$:\n",
        "- **$H_0$**: $\\beta_1 = 0$\n",
        "- **$H_1$**: $\\beta_1 \\neq 0$\n",
        "\n",
        "Se calcula el estadístico t para $\\hat{\\beta}_1$, se obtiene el valor p y se compara con $\\alpha$. Si el valor p es menor que 0.05, se rechaza $H_0$, indicando que $\\ X_1$ es significativa en el modelo.\n",
        "\n",
        "### Consideraciones Adicionales\n",
        "- **Multicolinealidad**: La presencia de correlación entre variables independientes puede afectar los resultados de las pruebas de hipótesis.\n",
        "- **Suposiciones del Modelo**: Las pruebas de hipótesis dependen de que se cumplan ciertas suposiciones como la normalidad de los errores y la homocedasticidad.\n"
      ],
      "metadata": {
        "id": "2pJ7gWqOHdCr"
      }
    },
    {
      "cell_type": "code",
      "source": [
        "install.packages(\"janitor\")\n",
        "\n",
        "# Cargar paquetes necesarios\n",
        "library(dplyr)\n",
        "library(tidyr)\n",
        "library(purrr)\n",
        "library(knitr)\n",
        "library(janitor)\n",
        "\n",
        "# Crear una función para realizar pruebas de hipótesis\n",
        "perform_hypothesis_tests <- function(data, dependent_var, independent_vars) {\n",
        "\n",
        "  tests <- map(independent_vars, ~{\n",
        "    # Crear una tabla cruzada\n",
        "    cross_table <- table(data[[.x]], data[[dependent_var]])\n",
        "\n",
        "    # Realizar la prueba de chi-cuadrado\n",
        "    test_result <- chisq.test(cross_table)\n",
        "\n",
        "    # Extraer los resultados relevantes\n",
        "    results <- data.frame(\n",
        "      variable = .x,\n",
        "      statistic = test_result$statistic,\n",
        "      p.value = test_result$p.value\n",
        "    )\n",
        "\n",
        "    return(results)\n",
        "  })\n",
        "\n",
        "  # Combinar todos los resultados en un solo marco de datos\n",
        "  tests_combined <- bind_rows(tests)\n",
        "\n",
        "  # Agregar una columna para la relevancia basada en el valor p\n",
        "  tests_combined <- tests_combined %>%\n",
        "    mutate(Relevante = ifelse(p.value <= 0.05, \"Sí\", \"No\"))\n",
        "\n",
        "  # Imprimir la tabla con los resultados de las pruebas de hipótesis\n",
        "  kable(tests_combined, format = \"markdown\")\n",
        "}\n",
        "\n",
        "# Aplicar la función a tu conjunto de datos\n",
        "perform_hypothesis_tests(datos, \"member_casual\", c(\"rideable_type\", \"start_station_name\", \"end_station_name\", \"day_of_week\"))"
      ],
      "metadata": {
        "colab": {
          "base_uri": "https://localhost:8080/",
          "height": 486
        },
        "id": "ZmcoKiSFfZOE",
        "outputId": "196ff1bb-4c7d-488a-c7e9-f02db68e92ab"
      },
      "execution_count": null,
      "outputs": [
        {
          "output_type": "stream",
          "name": "stderr",
          "text": [
            "Installing package into ‘/usr/local/lib/R/site-library’\n",
            "(as ‘lib’ is unspecified)\n",
            "\n",
            "also installing the dependency ‘snakecase’\n",
            "\n",
            "\n",
            "\n",
            "Attaching package: ‘janitor’\n",
            "\n",
            "\n",
            "The following objects are masked from ‘package:stats’:\n",
            "\n",
            "    chisq.test, fisher.test\n",
            "\n",
            "\n",
            "Warning message in stats::chisq.test(x, y, ...):\n",
            "“Chi-squared approximation may be incorrect”\n",
            "Warning message in stats::chisq.test(x, y, ...):\n",
            "“Chi-squared approximation may be incorrect”\n"
          ]
        },
        {
          "output_type": "display_data",
          "data": {
            "text/plain": [
              "\n",
              "\n",
              "|              |variable           |  statistic|   p.value|Relevante |\n",
              "|:-------------|:------------------|----------:|---------:|:---------|\n",
              "|X-squared...1 |rideable_type      | 234.242205| 0.0000000|Sí        |\n",
              "|X-squared...2 |start_station_name | 822.528928| 0.0000000|Sí        |\n",
              "|X-squared...3 |end_station_name   | 922.094271| 0.0000000|Sí        |\n",
              "|X-squared...4 |day_of_week        |   4.454732| 0.6153852|No        |"
            ]
          },
          "metadata": {}
        }
      ]
    },
    {
      "cell_type": "markdown",
      "source": [
        "##6.3. **Análisis de Varianza**"
      ],
      "metadata": {
        "id": "ZWfTfjPgiarD"
      }
    },
    {
      "cell_type": "code",
      "source": [
        "# Cargar librerías necesarias\n",
        "library(dplyr)\n",
        "\n",
        "# Convertir la variable 'member_casual' en factor\n",
        "datos$member_casual <- as.factor(datos$member_casual)\n",
        "\n",
        "# ANOVA para comparar la duración del viaje (ride_length) entre ciclistas ocasionales y miembros anuales\n",
        "anova_result <- aov(ride_length ~ member_casual, data = datos)\n",
        "summary(anova_result)\n"
      ],
      "metadata": {
        "colab": {
          "base_uri": "https://localhost:8080/",
          "height": 104
        },
        "id": "n-Q8LkC7UJuH",
        "outputId": "5feb1230-e62d-4542-cbb5-da0b10babee2"
      },
      "execution_count": null,
      "outputs": [
        {
          "output_type": "display_data",
          "data": {
            "text/plain": [
              "                Df    Sum Sq   Mean Sq F value  Pr(>F)   \n",
              "member_casual    1 8.811e+10 8.811e+10   7.364 0.00668 **\n",
              "Residuals     5003 5.986e+13 1.196e+10                   \n",
              "---\n",
              "Signif. codes:  0 ‘***’ 0.001 ‘**’ 0.01 ‘*’ 0.05 ‘.’ 0.1 ‘ ’ 1"
            ]
          },
          "metadata": {}
        }
      ]
    },
    {
      "cell_type": "code",
      "source": [
        "# Filtrar datos para obtener solo los necesarios\n",
        "cor_data <- datos %>%\n",
        "  select(ride_length)\n",
        "\n",
        "# Calcular la correlación de Pearson entre las variables seleccionadas\n",
        "cor_matrix <- cor(cor_data, method = \"pearson\")\n",
        "print(cor_matrix)\n"
      ],
      "metadata": {
        "id": "F14m3jrRWebG",
        "colab": {
          "base_uri": "https://localhost:8080/"
        },
        "outputId": "84c8134c-d061-4628-fe60-304bcd82669c"
      },
      "execution_count": null,
      "outputs": [
        {
          "output_type": "stream",
          "name": "stdout",
          "text": [
            "            ride_length\n",
            "ride_length           1\n"
          ]
        }
      ]
    },
    {
      "cell_type": "markdown",
      "source": [
        "# **7. Modelado de datos**"
      ],
      "metadata": {
        "id": "1hIgaj0kpAzA"
      }
    },
    {
      "cell_type": "markdown",
      "source": [
        "1. **Definición del Problema**\n",
        "En el caso del dataset de \"Bicicletas compartidas Cyclistic\", el problema a resolver es identificar las diferencias en el uso de las bicicletas entre ciclistas ocasionales y miembros anuales. La directora de marketing desea maximizar el número de membresías anuales, por lo que es crucial entender cómo los dos grupos de usuarios (casuales y miembros) utilizan el servicio. Esto ayudará a diseñar estrategias efectivas para convertir a los ciclistas ocasionales en miembros anuales.\n",
        "\n",
        "  Para definir el problema, se deben considerar las siguientes variables del dataset:\n",
        "\n",
        " -  **Variables Dependientes**:\n",
        "    -  member_casual: Define si el usuario es casual o miembro.\n",
        "    - ride_length: Duración del viaje, que puede ser un indicador de cómo usan las bicicletas los diferentes tipos de usuarios.\n",
        "\n",
        " -  **Variables Independientes**:\n",
        "    -  rideable_type: Tipo de bicicleta utilizada.\n",
        "     - started_at y ended_at: Información temporal del alquiler.\n",
        "    - start_station_name y end_station_name: Estaciones de inicio y fin del viaje.\n",
        "    - day_of_week, Month, Year: Contexto temporal del uso.\n",
        "\n",
        "2. **Selección del Modelo** Para abordar este problema, se pueden considerar los siguientes tipos de modelos predictivos:\n",
        "\n",
        " - Modelos de Clasificación: Dado que el objetivo es clasificar a los usuarios en dos categorías (casual o miembro), se pueden utilizar modelos como:\n",
        "\n",
        " - Regresión Logística: Para predecir la probabilidad de que un ciclista ocasional se convierta en miembro.\n",
        "Árboles de Decisión: Para entender cómo diferentes características del uso de bicicletas afectan la probabilidad de ser miembro."
      ],
      "metadata": {
        "id": "M5Y1rurJnIkX"
      }
    },
    {
      "cell_type": "code",
      "source": [],
      "metadata": {
        "id": "8pP_GXomyXg2"
      },
      "execution_count": null,
      "outputs": []
    },
    {
      "cell_type": "markdown",
      "source": [
        "Para la regresión logística, se utilizarán las siguientes variables:\n",
        "- rideable_type: que es una variable categórica que debe ser transformadas a numéricas y estas son:\n",
        " - classic_bike, electric_bike y docked_bike\n",
        "-day_of_week: Variable categórica a numérica.\n",
        " - Día de la semana del 1 al 7. Siendo 1 el dia domingo y 7 sabado.\n",
        "\n",
        "**No se tomaran en cuenta las demás variables a modo de aprendizaje, ya que no aportan demasiado dada su caracteristica o porque presentan demasiadas asignaciones a realizar de categoricas a numéricas (Alta cantidad de datos distintos en una sola columna).**"
      ],
      "metadata": {
        "id": "Wtvc752EzCZi"
      }
    },
    {
      "cell_type": "code",
      "source": [
        "head(datos)"
      ],
      "metadata": {
        "colab": {
          "base_uri": "https://localhost:8080/",
          "height": 286
        },
        "id": "M_ptaRWp0gtb",
        "outputId": "7a3f8933-e3fc-4c61-d440-b1faaceac343"
      },
      "execution_count": null,
      "outputs": [
        {
          "output_type": "display_data",
          "data": {
            "text/html": [
              "<table class=\"dataframe\">\n",
              "<caption>A data.frame: 6 × 15</caption>\n",
              "<thead>\n",
              "\t<tr><th></th><th scope=col>ride_id</th><th scope=col>rideable_type</th><th scope=col>started_at</th><th scope=col>ended_at</th><th scope=col>start_station_name</th><th scope=col>start_station_id</th><th scope=col>end_station_name</th><th scope=col>end_station_id</th><th scope=col>member_casual</th><th scope=col>ride_length</th><th scope=col>date</th><th scope=col>month</th><th scope=col>day</th><th scope=col>year</th><th scope=col>day_of_week</th></tr>\n",
              "\t<tr><th></th><th scope=col>&lt;chr&gt;</th><th scope=col>&lt;chr&gt;</th><th scope=col>&lt;dttm&gt;</th><th scope=col>&lt;dttm&gt;</th><th scope=col>&lt;chr&gt;</th><th scope=col>&lt;chr&gt;</th><th scope=col>&lt;chr&gt;</th><th scope=col>&lt;chr&gt;</th><th scope=col>&lt;fct&gt;</th><th scope=col>&lt;dbl&gt;</th><th scope=col>&lt;date&gt;</th><th scope=col>&lt;chr&gt;</th><th scope=col>&lt;chr&gt;</th><th scope=col>&lt;chr&gt;</th><th scope=col>&lt;chr&gt;</th></tr>\n",
              "</thead>\n",
              "<tbody>\n",
              "\t<tr><th scope=row>1</th><td>0EAA1910B8BA64B1</td><td>electric_bike</td><td>2027-07-20 22:19:44</td><td>2027-07-20 22:19:50</td><td><span style=white-space:pre-wrap>0                                  </span></td><td><span style=white-space:pre-wrap>0           </span></td><td><span style=white-space:pre-wrap>Broadway &amp; Waveland Ave     </span></td><td><span style=white-space:pre-wrap>13325       </span></td><td>casual</td><td>0.10000000</td><td>2027-07-20</td><td>07</td><td>20</td><td>2027</td><td>Tuesday </td></tr>\n",
              "\t<tr><th scope=row>2</th><td>08DBD790764BE5C2</td><td>electric_bike</td><td>2030-07-20 22:17:43</td><td>2030-07-20 22:18:09</td><td><span style=white-space:pre-wrap>Damen Ave &amp; Leland Ave             </span></td><td>TA1307000158</td><td><span style=white-space:pre-wrap>Wood St &amp; Augusta Blvd      </span></td><td><span style=white-space:pre-wrap>657         </span></td><td>member</td><td>0.43333333</td><td>2030-07-20</td><td>07</td><td>20</td><td>2030</td><td>Saturday</td></tr>\n",
              "\t<tr><th scope=row>3</th><td>CEB3246F6F57BD52</td><td>electric_bike</td><td>2031-07-20 22:21:29</td><td>2031-07-20 22:21:34</td><td><span style=white-space:pre-wrap>0                                  </span></td><td><span style=white-space:pre-wrap>0           </span></td><td>Desplaines St &amp; Jackson Blvd</td><td><span style=white-space:pre-wrap>15539       </span></td><td>casual</td><td>0.08333333</td><td>2031-07-20</td><td>07</td><td>20</td><td>2031</td><td><span style=white-space:pre-wrap>Sunday  </span></td></tr>\n",
              "\t<tr><th scope=row>4</th><td>F1E9159496E8FBDC</td><td>classic_bike </td><td>2012-07-20 22:07:19</td><td>2012-07-20 22:07:46</td><td><span style=white-space:pre-wrap>Sheridan Rd &amp; Irving Park Rd       </span></td><td><span style=white-space:pre-wrap>13063       </span></td><td><span style=white-space:pre-wrap>Clark St &amp; Lake St          </span></td><td>KA1503000012</td><td>member</td><td>0.45000000</td><td>2012-07-20</td><td>07</td><td>20</td><td>2012</td><td><span style=white-space:pre-wrap>Friday  </span></td></tr>\n",
              "\t<tr><th scope=row>5</th><td>7F00E9A0D88E7C10</td><td>classic_bike </td><td>2031-07-20 22:10:17</td><td>2031-07-20 22:10:25</td><td><span style=white-space:pre-wrap>Warren Park East                   </span></td><td><span style=white-space:pre-wrap>RP-002      </span></td><td><span style=white-space:pre-wrap>Clark St &amp; Touhy Ave        </span></td><td><span style=white-space:pre-wrap>RP-007      </span></td><td>member</td><td>0.13333333</td><td>2031-07-20</td><td>07</td><td>20</td><td>2031</td><td><span style=white-space:pre-wrap>Sunday  </span></td></tr>\n",
              "\t<tr><th scope=row>6</th><td>F2CA6BC33F8A0BB0</td><td>electric_bike</td><td>2028-07-20 22:18:53</td><td>2028-07-20 22:19:08</td><td>DuSable Lake Shore Dr &amp; Belmont Ave</td><td>TA1309000049</td><td><span style=white-space:pre-wrap>0                           </span></td><td><span style=white-space:pre-wrap>0           </span></td><td>casual</td><td>0.25000000</td><td>2028-07-20</td><td>07</td><td>20</td><td>2028</td><td>Thursday</td></tr>\n",
              "</tbody>\n",
              "</table>\n"
            ],
            "text/markdown": "\nA data.frame: 6 × 15\n\n| <!--/--> | ride_id &lt;chr&gt; | rideable_type &lt;chr&gt; | started_at &lt;dttm&gt; | ended_at &lt;dttm&gt; | start_station_name &lt;chr&gt; | start_station_id &lt;chr&gt; | end_station_name &lt;chr&gt; | end_station_id &lt;chr&gt; | member_casual &lt;fct&gt; | ride_length &lt;dbl&gt; | date &lt;date&gt; | month &lt;chr&gt; | day &lt;chr&gt; | year &lt;chr&gt; | day_of_week &lt;chr&gt; |\n|---|---|---|---|---|---|---|---|---|---|---|---|---|---|---|---|\n| 1 | 0EAA1910B8BA64B1 | electric_bike | 2027-07-20 22:19:44 | 2027-07-20 22:19:50 | 0                                   | 0            | Broadway &amp; Waveland Ave      | 13325        | casual | 0.10000000 | 2027-07-20 | 07 | 20 | 2027 | Tuesday  |\n| 2 | 08DBD790764BE5C2 | electric_bike | 2030-07-20 22:17:43 | 2030-07-20 22:18:09 | Damen Ave &amp; Leland Ave              | TA1307000158 | Wood St &amp; Augusta Blvd       | 657          | member | 0.43333333 | 2030-07-20 | 07 | 20 | 2030 | Saturday |\n| 3 | CEB3246F6F57BD52 | electric_bike | 2031-07-20 22:21:29 | 2031-07-20 22:21:34 | 0                                   | 0            | Desplaines St &amp; Jackson Blvd | 15539        | casual | 0.08333333 | 2031-07-20 | 07 | 20 | 2031 | Sunday   |\n| 4 | F1E9159496E8FBDC | classic_bike  | 2012-07-20 22:07:19 | 2012-07-20 22:07:46 | Sheridan Rd &amp; Irving Park Rd        | 13063        | Clark St &amp; Lake St           | KA1503000012 | member | 0.45000000 | 2012-07-20 | 07 | 20 | 2012 | Friday   |\n| 5 | 7F00E9A0D88E7C10 | classic_bike  | 2031-07-20 22:10:17 | 2031-07-20 22:10:25 | Warren Park East                    | RP-002       | Clark St &amp; Touhy Ave         | RP-007       | member | 0.13333333 | 2031-07-20 | 07 | 20 | 2031 | Sunday   |\n| 6 | F2CA6BC33F8A0BB0 | electric_bike | 2028-07-20 22:18:53 | 2028-07-20 22:19:08 | DuSable Lake Shore Dr &amp; Belmont Ave | TA1309000049 | 0                            | 0            | casual | 0.25000000 | 2028-07-20 | 07 | 20 | 2028 | Thursday |\n\n",
            "text/latex": "A data.frame: 6 × 15\n\\begin{tabular}{r|lllllllllllllll}\n  & ride\\_id & rideable\\_type & started\\_at & ended\\_at & start\\_station\\_name & start\\_station\\_id & end\\_station\\_name & end\\_station\\_id & member\\_casual & ride\\_length & date & month & day & year & day\\_of\\_week\\\\\n  & <chr> & <chr> & <dttm> & <dttm> & <chr> & <chr> & <chr> & <chr> & <fct> & <dbl> & <date> & <chr> & <chr> & <chr> & <chr>\\\\\n\\hline\n\t1 & 0EAA1910B8BA64B1 & electric\\_bike & 2027-07-20 22:19:44 & 2027-07-20 22:19:50 & 0                                   & 0            & Broadway \\& Waveland Ave      & 13325        & casual & 0.10000000 & 2027-07-20 & 07 & 20 & 2027 & Tuesday \\\\\n\t2 & 08DBD790764BE5C2 & electric\\_bike & 2030-07-20 22:17:43 & 2030-07-20 22:18:09 & Damen Ave \\& Leland Ave              & TA1307000158 & Wood St \\& Augusta Blvd       & 657          & member & 0.43333333 & 2030-07-20 & 07 & 20 & 2030 & Saturday\\\\\n\t3 & CEB3246F6F57BD52 & electric\\_bike & 2031-07-20 22:21:29 & 2031-07-20 22:21:34 & 0                                   & 0            & Desplaines St \\& Jackson Blvd & 15539        & casual & 0.08333333 & 2031-07-20 & 07 & 20 & 2031 & Sunday  \\\\\n\t4 & F1E9159496E8FBDC & classic\\_bike  & 2012-07-20 22:07:19 & 2012-07-20 22:07:46 & Sheridan Rd \\& Irving Park Rd        & 13063        & Clark St \\& Lake St           & KA1503000012 & member & 0.45000000 & 2012-07-20 & 07 & 20 & 2012 & Friday  \\\\\n\t5 & 7F00E9A0D88E7C10 & classic\\_bike  & 2031-07-20 22:10:17 & 2031-07-20 22:10:25 & Warren Park East                    & RP-002       & Clark St \\& Touhy Ave         & RP-007       & member & 0.13333333 & 2031-07-20 & 07 & 20 & 2031 & Sunday  \\\\\n\t6 & F2CA6BC33F8A0BB0 & electric\\_bike & 2028-07-20 22:18:53 & 2028-07-20 22:19:08 & DuSable Lake Shore Dr \\& Belmont Ave & TA1309000049 & 0                            & 0            & casual & 0.25000000 & 2028-07-20 & 07 & 20 & 2028 & Thursday\\\\\n\\end{tabular}\n",
            "text/plain": [
              "  ride_id          rideable_type started_at          ended_at           \n",
              "1 0EAA1910B8BA64B1 electric_bike 2027-07-20 22:19:44 2027-07-20 22:19:50\n",
              "2 08DBD790764BE5C2 electric_bike 2030-07-20 22:17:43 2030-07-20 22:18:09\n",
              "3 CEB3246F6F57BD52 electric_bike 2031-07-20 22:21:29 2031-07-20 22:21:34\n",
              "4 F1E9159496E8FBDC classic_bike  2012-07-20 22:07:19 2012-07-20 22:07:46\n",
              "5 7F00E9A0D88E7C10 classic_bike  2031-07-20 22:10:17 2031-07-20 22:10:25\n",
              "6 F2CA6BC33F8A0BB0 electric_bike 2028-07-20 22:18:53 2028-07-20 22:19:08\n",
              "  start_station_name                  start_station_id\n",
              "1 0                                   0               \n",
              "2 Damen Ave & Leland Ave              TA1307000158    \n",
              "3 0                                   0               \n",
              "4 Sheridan Rd & Irving Park Rd        13063           \n",
              "5 Warren Park East                    RP-002          \n",
              "6 DuSable Lake Shore Dr & Belmont Ave TA1309000049    \n",
              "  end_station_name             end_station_id member_casual ride_length\n",
              "1 Broadway & Waveland Ave      13325          casual        0.10000000 \n",
              "2 Wood St & Augusta Blvd       657            member        0.43333333 \n",
              "3 Desplaines St & Jackson Blvd 15539          casual        0.08333333 \n",
              "4 Clark St & Lake St           KA1503000012   member        0.45000000 \n",
              "5 Clark St & Touhy Ave         RP-007         member        0.13333333 \n",
              "6 0                            0              casual        0.25000000 \n",
              "  date       month day year day_of_week\n",
              "1 2027-07-20 07    20  2027 Tuesday    \n",
              "2 2030-07-20 07    20  2030 Saturday   \n",
              "3 2031-07-20 07    20  2031 Sunday     \n",
              "4 2012-07-20 07    20  2012 Friday     \n",
              "5 2031-07-20 07    20  2031 Sunday     \n",
              "6 2028-07-20 07    20  2028 Thursday   "
            ]
          },
          "metadata": {}
        }
      ]
    },
    {
      "cell_type": "code",
      "source": [
        "# Regresión Logística\n",
        "\n",
        "# Importar el dataset\n",
        "dataset = datos[, c(2, 15,9)]"
      ],
      "metadata": {
        "id": "kZrS8Frm08Mn"
      },
      "execution_count": null,
      "outputs": []
    },
    {
      "cell_type": "code",
      "source": [
        "head(dataset)"
      ],
      "metadata": {
        "colab": {
          "base_uri": "https://localhost:8080/",
          "height": 286
        },
        "id": "OZE6aeTvHKVW",
        "outputId": "e834564f-0649-41f6-fc08-2fc490142b06"
      },
      "execution_count": null,
      "outputs": [
        {
          "output_type": "display_data",
          "data": {
            "text/html": [
              "<table class=\"dataframe\">\n",
              "<caption>A data.frame: 6 × 3</caption>\n",
              "<thead>\n",
              "\t<tr><th></th><th scope=col>rideable_type</th><th scope=col>day_of_week</th><th scope=col>member_casual</th></tr>\n",
              "\t<tr><th></th><th scope=col>&lt;chr&gt;</th><th scope=col>&lt;chr&gt;</th><th scope=col>&lt;fct&gt;</th></tr>\n",
              "</thead>\n",
              "<tbody>\n",
              "\t<tr><th scope=row>1</th><td>electric_bike</td><td>Tuesday </td><td>casual</td></tr>\n",
              "\t<tr><th scope=row>2</th><td>electric_bike</td><td>Saturday</td><td>member</td></tr>\n",
              "\t<tr><th scope=row>3</th><td>electric_bike</td><td>Sunday  </td><td>casual</td></tr>\n",
              "\t<tr><th scope=row>4</th><td>classic_bike </td><td>Friday  </td><td>member</td></tr>\n",
              "\t<tr><th scope=row>5</th><td>classic_bike </td><td>Sunday  </td><td>member</td></tr>\n",
              "\t<tr><th scope=row>6</th><td>electric_bike</td><td>Thursday</td><td>casual</td></tr>\n",
              "</tbody>\n",
              "</table>\n"
            ],
            "text/markdown": "\nA data.frame: 6 × 3\n\n| <!--/--> | rideable_type &lt;chr&gt; | day_of_week &lt;chr&gt; | member_casual &lt;fct&gt; |\n|---|---|---|---|\n| 1 | electric_bike | Tuesday  | casual |\n| 2 | electric_bike | Saturday | member |\n| 3 | electric_bike | Sunday   | casual |\n| 4 | classic_bike  | Friday   | member |\n| 5 | classic_bike  | Sunday   | member |\n| 6 | electric_bike | Thursday | casual |\n\n",
            "text/latex": "A data.frame: 6 × 3\n\\begin{tabular}{r|lll}\n  & rideable\\_type & day\\_of\\_week & member\\_casual\\\\\n  & <chr> & <chr> & <fct>\\\\\n\\hline\n\t1 & electric\\_bike & Tuesday  & casual\\\\\n\t2 & electric\\_bike & Saturday & member\\\\\n\t3 & electric\\_bike & Sunday   & casual\\\\\n\t4 & classic\\_bike  & Friday   & member\\\\\n\t5 & classic\\_bike  & Sunday   & member\\\\\n\t6 & electric\\_bike & Thursday & casual\\\\\n\\end{tabular}\n",
            "text/plain": [
              "  rideable_type day_of_week member_casual\n",
              "1 electric_bike Tuesday     casual       \n",
              "2 electric_bike Saturday    member       \n",
              "3 electric_bike Sunday      casual       \n",
              "4 classic_bike  Friday      member       \n",
              "5 classic_bike  Sunday      member       \n",
              "6 electric_bike Thursday    casual       "
            ]
          },
          "metadata": {}
        }
      ]
    },
    {
      "cell_type": "code",
      "source": [
        "# Convertir a carácter\n",
        "#dataset$member_casual = as.character(dataset$member_casual)\n"
      ],
      "metadata": {
        "id": "goS3MoTK-Qkg"
      },
      "execution_count": null,
      "outputs": []
    },
    {
      "cell_type": "code",
      "source": [
        "# Codificar la variable de clasificación como factor\n",
        "dataset$member_casual = factor(dataset$member_casual, levels = c(\"casual\",\"member\"),\n",
        "                                                                       labels = c(0,1) )"
      ],
      "metadata": {
        "id": "AqrgKw791Zb3"
      },
      "execution_count": null,
      "outputs": []
    },
    {
      "cell_type": "code",
      "source": [
        "# Codificar las variables categóricas\n",
        "dataset$day_of_week = factor(dataset$day_of_week,\n",
        "                         levels = c(\"Sunday\", \"Monday\", \"Tuesday\", \"Wednesday\", \"Thursday\", \"Friday\", \"Saturday\"),\n",
        "                         labels = c(1, 2, 3, 4, 5, 6, 7))"
      ],
      "metadata": {
        "id": "mUClVs7q8UBm"
      },
      "execution_count": null,
      "outputs": []
    },
    {
      "cell_type": "code",
      "source": [
        "dataset$rideable_type = factor(dataset$rideable_type,\n",
        "                         levels = c(\"classic_bike\", \"electric_bike\", \"docked_bike\"),\n",
        "                         labels = c(1, 2, 3))"
      ],
      "metadata": {
        "id": "wodBhGHKHZ7z"
      },
      "execution_count": null,
      "outputs": []
    },
    {
      "cell_type": "code",
      "source": [
        "head(dataset)"
      ],
      "metadata": {
        "colab": {
          "base_uri": "https://localhost:8080/",
          "height": 286
        },
        "id": "O9NRCSqOHAe8",
        "outputId": "53c1b10d-0295-457d-d917-9e89cb95597a"
      },
      "execution_count": null,
      "outputs": [
        {
          "output_type": "display_data",
          "data": {
            "text/html": [
              "<table class=\"dataframe\">\n",
              "<caption>A data.frame: 6 × 3</caption>\n",
              "<thead>\n",
              "\t<tr><th></th><th scope=col>rideable_type</th><th scope=col>day_of_week</th><th scope=col>member_casual</th></tr>\n",
              "\t<tr><th></th><th scope=col>&lt;fct&gt;</th><th scope=col>&lt;fct&gt;</th><th scope=col>&lt;fct&gt;</th></tr>\n",
              "</thead>\n",
              "<tbody>\n",
              "\t<tr><th scope=row>1</th><td>2</td><td>3</td><td>0</td></tr>\n",
              "\t<tr><th scope=row>2</th><td>2</td><td>7</td><td>1</td></tr>\n",
              "\t<tr><th scope=row>3</th><td>2</td><td>1</td><td>0</td></tr>\n",
              "\t<tr><th scope=row>4</th><td>1</td><td>6</td><td>1</td></tr>\n",
              "\t<tr><th scope=row>5</th><td>1</td><td>1</td><td>1</td></tr>\n",
              "\t<tr><th scope=row>6</th><td>2</td><td>5</td><td>0</td></tr>\n",
              "</tbody>\n",
              "</table>\n"
            ],
            "text/markdown": "\nA data.frame: 6 × 3\n\n| <!--/--> | rideable_type &lt;fct&gt; | day_of_week &lt;fct&gt; | member_casual &lt;fct&gt; |\n|---|---|---|---|\n| 1 | 2 | 3 | 0 |\n| 2 | 2 | 7 | 1 |\n| 3 | 2 | 1 | 0 |\n| 4 | 1 | 6 | 1 |\n| 5 | 1 | 1 | 1 |\n| 6 | 2 | 5 | 0 |\n\n",
            "text/latex": "A data.frame: 6 × 3\n\\begin{tabular}{r|lll}\n  & rideable\\_type & day\\_of\\_week & member\\_casual\\\\\n  & <fct> & <fct> & <fct>\\\\\n\\hline\n\t1 & 2 & 3 & 0\\\\\n\t2 & 2 & 7 & 1\\\\\n\t3 & 2 & 1 & 0\\\\\n\t4 & 1 & 6 & 1\\\\\n\t5 & 1 & 1 & 1\\\\\n\t6 & 2 & 5 & 0\\\\\n\\end{tabular}\n",
            "text/plain": [
              "  rideable_type day_of_week member_casual\n",
              "1 2             3           0            \n",
              "2 2             7           1            \n",
              "3 2             1           0            \n",
              "4 1             6           1            \n",
              "5 1             1           1            \n",
              "6 2             5           0            "
            ]
          },
          "metadata": {}
        }
      ]
    },
    {
      "cell_type": "code",
      "source": [
        "# Dividir los datos en conjunto de entrenamiento y conjunto de test\n",
        "install.packages(\"caTools\")\n",
        "library(caTools)\n",
        "set.seed(123)\n",
        "split = sample.split(dataset$member_casual, SplitRatio = 0.75)\n",
        "training_set = subset(dataset, split == TRUE)\n",
        "testing_set = subset(dataset, split == FALSE)"
      ],
      "metadata": {
        "colab": {
          "base_uri": "https://localhost:8080/"
        },
        "id": "ByXHVM3Orzf9",
        "outputId": "788befcc-802a-4e78-9177-61a73c6bc631"
      },
      "execution_count": null,
      "outputs": [
        {
          "output_type": "stream",
          "name": "stderr",
          "text": [
            "Installing package into ‘/usr/local/lib/R/site-library’\n",
            "(as ‘lib’ is unspecified)\n",
            "\n"
          ]
        }
      ]
    },
    {
      "cell_type": "code",
      "source": [
        "head(dataset)"
      ],
      "metadata": {
        "colab": {
          "base_uri": "https://localhost:8080/",
          "height": 286
        },
        "id": "GHTHbi_uHqeK",
        "outputId": "25f280ab-37f3-4d69-b8a1-d4446668a9b2"
      },
      "execution_count": null,
      "outputs": [
        {
          "output_type": "display_data",
          "data": {
            "text/html": [
              "<table class=\"dataframe\">\n",
              "<caption>A data.frame: 6 × 3</caption>\n",
              "<thead>\n",
              "\t<tr><th></th><th scope=col>rideable_type</th><th scope=col>day_of_week</th><th scope=col>member_casual</th></tr>\n",
              "\t<tr><th></th><th scope=col>&lt;fct&gt;</th><th scope=col>&lt;fct&gt;</th><th scope=col>&lt;fct&gt;</th></tr>\n",
              "</thead>\n",
              "<tbody>\n",
              "\t<tr><th scope=row>1</th><td>2</td><td>3</td><td>0</td></tr>\n",
              "\t<tr><th scope=row>2</th><td>2</td><td>7</td><td>1</td></tr>\n",
              "\t<tr><th scope=row>3</th><td>2</td><td>1</td><td>0</td></tr>\n",
              "\t<tr><th scope=row>4</th><td>1</td><td>6</td><td>1</td></tr>\n",
              "\t<tr><th scope=row>5</th><td>1</td><td>1</td><td>1</td></tr>\n",
              "\t<tr><th scope=row>6</th><td>2</td><td>5</td><td>0</td></tr>\n",
              "</tbody>\n",
              "</table>\n"
            ],
            "text/markdown": "\nA data.frame: 6 × 3\n\n| <!--/--> | rideable_type &lt;fct&gt; | day_of_week &lt;fct&gt; | member_casual &lt;fct&gt; |\n|---|---|---|---|\n| 1 | 2 | 3 | 0 |\n| 2 | 2 | 7 | 1 |\n| 3 | 2 | 1 | 0 |\n| 4 | 1 | 6 | 1 |\n| 5 | 1 | 1 | 1 |\n| 6 | 2 | 5 | 0 |\n\n",
            "text/latex": "A data.frame: 6 × 3\n\\begin{tabular}{r|lll}\n  & rideable\\_type & day\\_of\\_week & member\\_casual\\\\\n  & <fct> & <fct> & <fct>\\\\\n\\hline\n\t1 & 2 & 3 & 0\\\\\n\t2 & 2 & 7 & 1\\\\\n\t3 & 2 & 1 & 0\\\\\n\t4 & 1 & 6 & 1\\\\\n\t5 & 1 & 1 & 1\\\\\n\t6 & 2 & 5 & 0\\\\\n\\end{tabular}\n",
            "text/plain": [
              "  rideable_type day_of_week member_casual\n",
              "1 2             3           0            \n",
              "2 2             7           1            \n",
              "3 2             1           0            \n",
              "4 1             6           1            \n",
              "5 1             1           1            \n",
              "6 2             5           0            "
            ]
          },
          "metadata": {}
        }
      ]
    },
    {
      "cell_type": "code",
      "source": [
        "# Escalado de valores\n",
        "#training_set[,1:2] = scale(training_set[,1:2])\n",
        "#testing_set[,1:2] = scale(testing_set[,1:2])\n",
        "\n",
        "# Ajustar el modelo de regresión logística con el conjunto de entrenamiento.\n",
        "classifier = glm(formula = member_casual ~ .,\n",
        "                 data = training_set,\n",
        "                 family = binomial)\n"
      ],
      "metadata": {
        "id": "WvT3Nu2ar1rl"
      },
      "execution_count": null,
      "outputs": []
    },
    {
      "cell_type": "code",
      "source": [
        "# Predicción de los resultados con el conjunto de testing\n",
        "prob_pred <- predict(classifier, type = \"response\", newdata = testing_set[,-3])\n",
        "\n",
        "# Convertir las probabilidades en predicciones binarias\n",
        "y_pred <- ifelse(prob_pred > 0.5, 1, 0)\n",
        "\n",
        "# Crear la matriz de confusión\n",
        "cm <- table(testing_set[, 3], y_pred)\n",
        "\n",
        "# Mostrar la matriz de confusión\n",
        "print(cm)\n",
        "\n",
        "# Calcular la precisión (accuracy)\n",
        "accuracy <- sum(diag(cm)) / sum(cm)\n",
        "print(paste(\"Precisión (Accuracy):\", round(accuracy, 2)))\n"
      ],
      "metadata": {
        "colab": {
          "base_uri": "https://localhost:8080/"
        },
        "id": "KDW9gt9uPrgn",
        "outputId": "24b36234-7def-4d8b-ddc4-296f231d65d9"
      },
      "execution_count": null,
      "outputs": [
        {
          "output_type": "stream",
          "name": "stdout",
          "text": [
            "   y_pred\n",
            "      0   1\n",
            "  0  22 416\n",
            "  1   0 813\n",
            "[1] \"Precisión (Accuracy): 0.67\"\n"
          ]
        }
      ]
    },
    {
      "cell_type": "markdown",
      "source": [
        "# **8. Evaluación de Modelos**"
      ],
      "metadata": {
        "id": "h5Oe6XJtpJ1M"
      }
    },
    {
      "cell_type": "markdown",
      "source": [
        "## Matriz de Confusión\n",
        "\n",
        "La matriz de confusión es una herramienta fundamental en la evaluación de modelos de clasificación en el campo del aprendizaje automático. Esta matriz permite visualizar el rendimiento de un modelo al comparar las predicciones hechas por el modelo con las etiquetas reales del conjunto de datos. La matriz de confusión generalmente se representa de la siguiente manera:\n",
        "\n",
        "\n",
        "|               | Clase real   |               |\n",
        "|---------------|:------------:|:-------------:|\n",
        "|               | Positiva     | Negativa      |\n",
        "| **Predicción**    |              |               |\n",
        "| Positiva      | VP           | FP            |\n",
        "| Negativa      | FN           | VN            |\n",
        "\n",
        "\n",
        "Donde:\n",
        "\n",
        "- **Verdadero Positivo (VP):** El modelo predijo correctamente una instancia positiva.\n",
        "- **Falso Positivo (FP):** El modelo predijo incorrectamente una instancia negativa como positiva.\n",
        "- **Falso Negativo (FN):** El modelo predijo incorrectamente una instancia positiva como negativa.\n",
        "- **Verdadero Negativo (VN):** El modelo predijo correctamente una instancia negativa.\n",
        "\n",
        "A partir de esta matriz, podemos calcular diversas métricas de rendimiento, incluyendo:\n",
        "\n",
        "- **Accuracy (Exactitud):** La exactitud mide la proporción de predicciones correctas, es decir, la proporción de todas las predicciones que fueron correctas en relación con el tamaño total del conjunto de datos.\n",
        "\n",
        "$$\n",
        "\\text{Accuracy} = \\frac{VP + VN}{VP + VN + FP + FN}\n",
        "$$\n",
        "\n",
        "- **Precisión (Precision):** La precisión mide la proporción de predicciones positivas correctas entre todas las predicciones positivas del modelo.\n",
        "\n",
        "$$\n",
        "\\text{Precisión} = \\frac{VP}{VP + FP}\n",
        "$$\n",
        "\n",
        "- **Recall (Sensibilidad o Tasa de Verdaderos Positivos):** El recall mide la proporción de instancias positivas reales que fueron correctamente identificadas por el modelo.\n",
        "\n",
        "$$\n",
        "\\text{Recall} = \\frac{VP}{VP + FN}\n",
        "$$\n",
        "\n",
        "- **F1-Score:** El F1-Score es la media armónica entre la precisión y el recall y es útil cuando se desea equilibrar ambas métricas.\n",
        "\n",
        "$$\n",
        "\\text{F1-Score} = \\frac{2 \\cdot \\text{Precisión} \\cdot \\text{Recall}}{\\text{Precisión} + \\text{Recall}}\n",
        "$$"
      ],
      "metadata": {
        "id": "or1woUhiisff"
      }
    },
    {
      "cell_type": "code",
      "source": [
        "install.packages(\"caret\")\n",
        "install.packages(\"ggplot2\")\n",
        "install.packages(\"e1071\")  # Necesario para confusionMatrix\n",
        "install.packages(\"dplyr\")\n",
        "\n",
        "library(caret)\n",
        "library(ggplot2)\n",
        "library(e1071)\n",
        "library(dplyr)\n"
      ],
      "metadata": {
        "colab": {
          "base_uri": "https://localhost:8080/"
        },
        "id": "VpviG5IhLpxj",
        "outputId": "55c1cb45-2d4a-4eeb-b305-70c621508fac"
      },
      "execution_count": null,
      "outputs": [
        {
          "output_type": "stream",
          "name": "stderr",
          "text": [
            "Installing package into ‘/usr/local/lib/R/site-library’\n",
            "(as ‘lib’ is unspecified)\n",
            "\n",
            "Installing package into ‘/usr/local/lib/R/site-library’\n",
            "(as ‘lib’ is unspecified)\n",
            "\n",
            "Installing package into ‘/usr/local/lib/R/site-library’\n",
            "(as ‘lib’ is unspecified)\n",
            "\n",
            "Installing package into ‘/usr/local/lib/R/site-library’\n",
            "(as ‘lib’ is unspecified)\n",
            "\n"
          ]
        }
      ]
    },
    {
      "cell_type": "code",
      "source": [
        "conf_matrix <- confusionMatrix(predictions, factor(test_data$Species))\n",
        "print(conf_matrix)\n",
        "\n",
        "# Crear una visualización de la matriz de confusión\n",
        "conf_matrix_df <- as.data.frame(conf_matrix$table)\n",
        "colnames(conf_matrix_df) <- c(\"Predicción\", \"Real\", \"Frecuencia\")\n",
        "\n",
        "ggplot(data = conf_matrix_df, aes(x = Real, y = Predicción, fill = Frecuencia)) +\n",
        "  geom_tile() +\n",
        "  geom_text(aes(label = Frecuencia), color = \"white\", size = 5) +\n",
        "  scale_fill_gradient(low = \"white\", high = \"blue\") +\n",
        "  labs(title = \"Matriz de Confusión\", x = \"Etiquetas Reales\", y = \"Predicciones\") +\n",
        "  theme_minimal()\n"
      ],
      "metadata": {
        "colab": {
          "base_uri": "https://localhost:8080/",
          "height": 106
        },
        "id": "S2zal0kHLm4I",
        "outputId": "bf3f4fdb-50b4-4100-f9b9-d2489199340e"
      },
      "execution_count": null,
      "outputs": [
        {
          "output_type": "error",
          "ename": "ERROR",
          "evalue": "Error in eval(expr, envir, enclos): object 'predictions' not found\n",
          "traceback": [
            "Error in eval(expr, envir, enclos): object 'predictions' not found\nTraceback:\n",
            "1. confusionMatrix(predictions, factor(test_data$Species))"
          ]
        }
      ]
    },
    {
      "cell_type": "code",
      "source": [
        "# Predicciones del modelo en el conjunto de prueba\n",
        "predictions <- predict(classifier, newdata = testing_set[,-3])\n",
        "\n",
        "# Calcular la matriz de confusión y métricas de evaluación\n",
        "library(caret)\n",
        "conf_matrix <- confusionMatrix(predictions, factor(test_data$Species))\n",
        "print(conf_matrix)\n",
        "\n",
        "# Crear una visualización de la matriz de confusión\n",
        "conf_matrix_df <- as.data.frame(conf_matrix$table)\n",
        "colnames(conf_matrix_df) <- c(\"Predicción\", \"Real\", \"Frecuencia\")\n",
        "\n",
        "library(ggplot2)\n",
        "ggplot(data = conf_matrix_df, aes(x = Real, y = Predicción, fill = Frecuencia)) +\n",
        "  geom_tile() +\n",
        "  geom_text(aes(label = Frecuencia), color = \"white\", size = 5) +\n",
        "  scale_fill_gradient(low = \"white\", high = \"blue\") +\n",
        "  labs(title = \"Matriz de Confusión\", x = \"Etiquetas Reales\", y = \"Predicciones\") +\n",
        "  theme_minimal()\n"
      ],
      "metadata": {
        "id": "Key2VW3rQZ2Y"
      },
      "execution_count": null,
      "outputs": []
    },
    {
      "cell_type": "code",
      "source": [
        "# Predicción de los resultados con el conjunto de testing\n",
        "prob_pred <- predict(classifier, type = \"response\", newdata = testing_set[,-3])\n",
        "\n",
        "# Convertir las probabilidades en predicciones binarias\n",
        "y_pred <- ifelse(prob_pred > 0.5, 1, 0)\n",
        "\n",
        "# Crear la matriz de confusión\n",
        "cm <- confusionMatrix(as.factor(y_pred), as.factor(testing_set[, 3]))\n",
        "print(cm)\n",
        "\n",
        "# Calcular la precisión (accuracy)\n",
        "accuracy <- sum(cm$table[cbind(1:nrow(cm$table), 1:ncol(cm$table))]) / sum(cm$table)\n",
        "print(paste(\"Precisión (Accuracy):\", round(accuracy, 2)))\n",
        "\n",
        "# Crear una visualización de la matriz de confusión\n",
        "cm_df <- as.data.frame(cm$table)\n",
        "colnames(cm_df) <- c(\"Predicción\", \"Real\", \"Frecuencia\")\n",
        "\n",
        "ggplot(data = cm_df, aes(x = Real, y = Predicción, fill = Frecuencia)) +\n",
        "  geom_tile() +\n",
        "  geom_text(aes(label = Frecuencia), color = \"white\", size = 5) +\n",
        "  scale_fill_gradient(low = \"red\", high = \"blue\") +\n",
        "  labs(title = \"Matriz de Confusión\", x = \"Etiquetas Reales\", y = \"Predicciones\") +\n",
        "  theme_minimal()\n"
      ],
      "metadata": {
        "colab": {
          "base_uri": "https://localhost:8080/",
          "height": 923
        },
        "id": "1PdB3YkyRL1M",
        "outputId": "7bc1bc02-0f41-4638-aab3-c75696ce11d7"
      },
      "execution_count": null,
      "outputs": [
        {
          "output_type": "stream",
          "name": "stdout",
          "text": [
            "Confusion Matrix and Statistics\n",
            "\n",
            "          Reference\n",
            "Prediction   0   1\n",
            "         0  22   0\n",
            "         1 416 813\n",
            "                                          \n",
            "               Accuracy : 0.6675          \n",
            "                 95% CI : (0.6406, 0.6936)\n",
            "    No Information Rate : 0.6499          \n",
            "    P-Value [Acc > NIR] : 0.1009          \n",
            "                                          \n",
            "                  Kappa : 0.0643          \n",
            "                                          \n",
            " Mcnemar's Test P-Value : <2e-16          \n",
            "                                          \n",
            "            Sensitivity : 0.05023         \n",
            "            Specificity : 1.00000         \n",
            "         Pos Pred Value : 1.00000         \n",
            "         Neg Pred Value : 0.66151         \n",
            "             Prevalence : 0.35012         \n",
            "         Detection Rate : 0.01759         \n",
            "   Detection Prevalence : 0.01759         \n",
            "      Balanced Accuracy : 0.52511         \n",
            "                                          \n",
            "       'Positive' Class : 0               \n",
            "                                          \n",
            "[1] \"Precisión (Accuracy): 0.67\"\n"
          ]
        },
        {
          "output_type": "display_data",
          "data": {
            "text/plain": [
              "plot without title"
            ],
            "image/png": "[encoded data removed]"
          },
          "metadata": {
            "image/png": {
              "width": 420,
              "height": 420
            }
          }
        }
      ]
    },
    {
      "cell_type": "markdown",
      "source": [
        "# **9. Visualizaciones**\n",
        "\n",
        "A continuación, crearemos algunas visualizaciones para explorar los datos de manera más visual."
      ],
      "metadata": {
        "id": "CXEnzyj79HRY"
      }
    },
    {
      "cell_type": "code",
      "source": [
        "# Analizar datos de número de pasajeros por tipo y día de la semana\n",
        "#Calcular el promedio de la longitud de los viajes (ride_length) agrupados por las variables member_casual y day_of_week del dataframe datos\n",
        "datos %>%\n",
        "  mutate(weekday = wday(started_at, label = TRUE)) %>%  #crea el campo de día de la semana usando wday()\n",
        "  group_by(member_casual, weekday) %>% #grupos por tipo de usuario y día de la semana\n",
        "  summarise(number_of_rides = n()\t\t\t#calcula el número de viajes y la duración media\n",
        "            ,average_duration = mean(ride_length)) %>% \t#calcula la duración media\n",
        "  arrange(member_casual, weekday)\t\t\t\t\t\t\t\t# ordena"
      ],
      "metadata": {
        "trusted": true,
        "colab": {
          "base_uri": "https://localhost:8080/",
          "height": 572
        },
        "id": "2H2LQ8kE9HRZ",
        "outputId": "1b387cfb-02cb-4dc1-e783-7d695fa81c9e"
      },
      "execution_count": null,
      "outputs": [
        {
          "output_type": "stream",
          "name": "stderr",
          "text": [
            "\u001b[1m\u001b[22m`summarise()` has grouped output by 'member_casual'. You can override using the\n",
            "`.groups` argument.\n"
          ]
        },
        {
          "output_type": "display_data",
          "data": {
            "text/html": [
              "<table class=\"dataframe\">\n",
              "<caption>A grouped_df: 14 × 4</caption>\n",
              "<thead>\n",
              "\t<tr><th scope=col>member_casual</th><th scope=col>weekday</th><th scope=col>number_of_rides</th><th scope=col>average_duration</th></tr>\n",
              "\t<tr><th scope=col>&lt;chr&gt;</th><th scope=col>&lt;ord&gt;</th><th scope=col>&lt;int&gt;</th><th scope=col>&lt;dbl&gt;</th></tr>\n",
              "</thead>\n",
              "<tbody>\n",
              "\t<tr><td>casual</td><td>Sun</td><td>267</td><td>1.181280e+05</td></tr>\n",
              "\t<tr><td>casual</td><td>Mon</td><td>225</td><td>2.803270e+05</td></tr>\n",
              "\t<tr><td>casual</td><td>Tue</td><td>260</td><td>1.736923e+01</td></tr>\n",
              "\t<tr><td>casual</td><td>Wed</td><td>228</td><td>5.532730e+05</td></tr>\n",
              "\t<tr><td>casual</td><td>Thu</td><td>256</td><td>2.095538e+06</td></tr>\n",
              "\t<tr><td>casual</td><td>Fri</td><td>251</td><td>5.029253e+05</td></tr>\n",
              "\t<tr><td>casual</td><td>Sat</td><td>265</td><td>4.763599e+05</td></tr>\n",
              "\t<tr><td>member</td><td>Sun</td><td>451</td><td>1.149889e+01</td></tr>\n",
              "\t<tr><td>member</td><td>Mon</td><td>469</td><td>1.050533e+01</td></tr>\n",
              "\t<tr><td>member</td><td>Tue</td><td>491</td><td>1.108961e+01</td></tr>\n",
              "\t<tr><td>member</td><td>Wed</td><td>400</td><td>7.906341e+04</td></tr>\n",
              "\t<tr><td>member</td><td>Thu</td><td>497</td><td>6.346263e+04</td></tr>\n",
              "\t<tr><td>member</td><td>Fri</td><td>459</td><td>6.890537e+04</td></tr>\n",
              "\t<tr><td>member</td><td>Sat</td><td>486</td><td>1.297846e+05</td></tr>\n",
              "</tbody>\n",
              "</table>\n"
            ],
            "text/markdown": "\nA grouped_df: 14 × 4\n\n| member_casual &lt;chr&gt; | weekday &lt;ord&gt; | number_of_rides &lt;int&gt; | average_duration &lt;dbl&gt; |\n|---|---|---|---|\n| casual | Sun | 267 | 1.181280e+05 |\n| casual | Mon | 225 | 2.803270e+05 |\n| casual | Tue | 260 | 1.736923e+01 |\n| casual | Wed | 228 | 5.532730e+05 |\n| casual | Thu | 256 | 2.095538e+06 |\n| casual | Fri | 251 | 5.029253e+05 |\n| casual | Sat | 265 | 4.763599e+05 |\n| member | Sun | 451 | 1.149889e+01 |\n| member | Mon | 469 | 1.050533e+01 |\n| member | Tue | 491 | 1.108961e+01 |\n| member | Wed | 400 | 7.906341e+04 |\n| member | Thu | 497 | 6.346263e+04 |\n| member | Fri | 459 | 6.890537e+04 |\n| member | Sat | 486 | 1.297846e+05 |\n\n",
            "text/latex": "A grouped\\_df: 14 × 4\n\\begin{tabular}{llll}\n member\\_casual & weekday & number\\_of\\_rides & average\\_duration\\\\\n <chr> & <ord> & <int> & <dbl>\\\\\n\\hline\n\t casual & Sun & 267 & 1.181280e+05\\\\\n\t casual & Mon & 225 & 2.803270e+05\\\\\n\t casual & Tue & 260 & 1.736923e+01\\\\\n\t casual & Wed & 228 & 5.532730e+05\\\\\n\t casual & Thu & 256 & 2.095538e+06\\\\\n\t casual & Fri & 251 & 5.029253e+05\\\\\n\t casual & Sat & 265 & 4.763599e+05\\\\\n\t member & Sun & 451 & 1.149889e+01\\\\\n\t member & Mon & 469 & 1.050533e+01\\\\\n\t member & Tue & 491 & 1.108961e+01\\\\\n\t member & Wed & 400 & 7.906341e+04\\\\\n\t member & Thu & 497 & 6.346263e+04\\\\\n\t member & Fri & 459 & 6.890537e+04\\\\\n\t member & Sat & 486 & 1.297846e+05\\\\\n\\end{tabular}\n",
            "text/plain": [
              "   member_casual weekday number_of_rides average_duration\n",
              "1  casual        Sun     267             1.181280e+05    \n",
              "2  casual        Mon     225             2.803270e+05    \n",
              "3  casual        Tue     260             1.736923e+01    \n",
              "4  casual        Wed     228             5.532730e+05    \n",
              "5  casual        Thu     256             2.095538e+06    \n",
              "6  casual        Fri     251             5.029253e+05    \n",
              "7  casual        Sat     265             4.763599e+05    \n",
              "8  member        Sun     451             1.149889e+01    \n",
              "9  member        Mon     469             1.050533e+01    \n",
              "10 member        Tue     491             1.108961e+01    \n",
              "11 member        Wed     400             7.906341e+04    \n",
              "12 member        Thu     497             6.346263e+04    \n",
              "13 member        Fri     459             6.890537e+04    \n",
              "14 member        Sat     486             1.297846e+05    "
            ]
          },
          "metadata": {}
        }
      ]
    },
    {
      "cell_type": "markdown",
      "source": [
        "\n",
        "Con base en la imagen proporcionada, podemos observar lo siguiente:\n",
        "\n",
        "- Los ciclistas ocasionales realizan más viajes en bicicleta que los miembros anuales en todos los días de la semana, excepto los viernes.\n",
        "- La duración promedio del viaje es mayor para los miembros anuales que para los ciclistas ocasionales en todos los días de la semana, excepto los lunes y los viernes.\n",
        "- El día de la semana con mayor actividad para los ciclistas ocasionales es el jueves, mientras que para los miembros anuales es el sábado.\n",
        "- El día de la semana con menor actividad para los ciclistas ocasionales es el martes, mientras que para los miembros anuales es el domingo.\n",
        "\n",
        "A partir de esta información, podemos concluir que:\n",
        "- Los ciclistas ocasionales utilizan las bicicletas Cyclistic de manera más frecuente, pero durante menos tiempo, que los miembros anuales.\n",
        "- Los miembros anuales son más rentables para Cyclistic que los ciclistas ocasionales, ya que realizan viajes más largos.\n",
        "- Existen oportunidades para convertir a los ciclistas ocasionales en miembros anuales enfocándose en los días de la semana y las franjas horarias en las que los ciclistas ocasionales realizan viajes más cortos.\n",
        "\n",
        "Recomendaciones:\n",
        "- Implementar un programa de membresía que ofrezca incentivos a los ciclistas ocasionales para que se conviertan en miembros anuales, como descuentos en la tarifa de los viajes o acceso a beneficios exclusivos.\n",
        "- Realizar campañas de marketing dirigidas a los ciclistas ocasionales, destacando las ventajas de ser miembro anual, como la posibilidad de realizar viajes más largos y a un menor costo.\n",
        "- Ofrecer a los ciclistas ocasionales la posibilidad de probar la membresía anual durante un período de tiempo determinado de forma gratuita."
      ],
      "metadata": {
        "id": "DRy7Wfkwd0AB"
      }
    },
    {
      "cell_type": "markdown",
      "source": [
        "###Conclusiones:\n",
        "\n",
        "En general, los miembros anuales tienen viajes en bicicleta más largos que los ciclistas ocasionales.\n",
        "- La diferencia en la duración del viaje es mayor los fines de semana (sábado y domingo) que entre semana.\n",
        "- El día de la semana con la mayor duración promedio de viaje para los miembros anuales es el domingo, con 129.777,78 segundos.\n",
        "- El día de la semana con la menor duración promedio de viaje para los miembros anuales es el lunes, con 5.532.636,16 segundos.\n",
        "- El día de la semana con la mayor duración promedio de viaje para los ciclistas ocasionales es el domingo, con 79.056 segundos\n",
        "- El día de la semana con la menor duración promedio de viaje para los ciclistas ocasionales es el lunes, con 28032 segundos.\n"
      ],
      "metadata": {
        "id": "vEv3nr4tW1Zw"
      }
    },
    {
      "cell_type": "markdown",
      "source": [
        "1.  *Gráfico de barras* del número de viajes promedio por tipo de ciclista"
      ],
      "metadata": {
        "id": "yUnv-Q0T9HRZ"
      }
    },
    {
      "cell_type": "code",
      "source": [
        "# Visualicemos el número de viajes promedio por tipo de ciclista.\n",
        "datos %>%\n",
        "  mutate(weekday = wday(started_at, label = TRUE)) %>%\n",
        "  group_by(member_casual, weekday) %>%\n",
        "  summarise(number_of_rides = n(),\n",
        "            average_duration = mean(ride_length)) %>%\n",
        "  arrange(member_casual, weekday) %>%\n",
        "  ggplot(aes(x = weekday, y = number_of_rides, fill = member_casual)) +\n",
        "  geom_col(position = \"dodge\") +\n",
        "  geom_text(aes(label = number_of_rides), position = position_dodge(width = 0.9), vjust = -0.5) +\n",
        "  labs(title = \"Bar graph of number of rides by rider type\",\n",
        "       x = \"Weekday\",\n",
        "       y = \"Number of Rides\",\n",
        "       fill = \"Member_casual\")"
      ],
      "metadata": {
        "colab": {
          "base_uri": "https://localhost:8080/",
          "height": 472
        },
        "id": "EohnLyqXPM5v",
        "outputId": "8042a7be-a61a-4393-8c2a-8966a23c05a4"
      },
      "execution_count": null,
      "outputs": [
        {
          "output_type": "stream",
          "name": "stderr",
          "text": [
            "\u001b[1m\u001b[22m`summarise()` has grouped output by 'member_casual'. You can override using the\n",
            "`.groups` argument.\n"
          ]
        },
        {
          "output_type": "display_data",
          "data": {
            "text/plain": [
              "plot without title"
            ],
            "image/png": "[encoded data removed]"
          },
          "metadata": {
            "image/png": {
              "width": 420,
              "height": 420
            }
          }
        }
      ]
    },
    {
      "cell_type": "markdown",
      "source": [
        "###🗒️ Conclusión del Gráfico \"Número de Viajes promedio por Tipo de Ciclista\"\n",
        "\n",
        "El gráfico de barras \"Número de viajes por tipo de ciclista\" muestra <u>la cantidad de viajes realizados por ciclistas ocasionales (casual) y miembros anuales (member) en distintos días de la semana</u>. A partir del gráfico, se pueden extraer las siguientes conclusiones:\n",
        "\n",
        "- **Mayor uso por miembros anuales**: En todos los días de la semana, los miembros anuales realizan más viajes que los ciclistas ocasionales. Esto indica que los miembros anuales son usuarios más frecuentes de las bicicletas compartidas de Cyclistic.\n",
        "\n",
        "- **Patrones de uso semanal**:\n",
        "\n",
        " - **Miembros anuales**: El uso de las bicicletas es relativamente constante a lo largo de la semana, con un ligero aumento durante los días laborales (especialmente miércoles y jueves) y picos los fines de semana.\n",
        " - **Ciclistas ocasionales**: Se observa un patrón diferente, con un menor uso durante los días laborales y un incremento notable los fines de semana (sábado y domingo). Esto sugiere que los ciclistas ocasionales tienden a usar las bicicletas más para actividades recreativas durante el fin de semana.\n",
        "\n",
        "- **Estrategia de conversión**: Dado que los ciclistas ocasionales ya están familiarizados con el servicio y tienden a usarlo principalmente los fines de semana, una estrategia de marketing eficaz podría enfocarse en destacar los beneficios de la membresía anual para el uso recreativo, además de resaltar el ahorro a largo plazo y la conveniencia de ser un miembro anual. Incentivos especiales durante los fines de semana podrían ser particularmente efectivos para convertir a estos usuarios ocasionales en miembros anuales.\n",
        "\n",
        "- **Promoción dirigida**: Es posible diseñar campañas de promoción específicamente dirigidas a ciclistas ocasionales durante sus periodos de mayor uso (fines de semana), ofreciendo descuentos o promociones que incentiven la transición a una membresía anual.\n",
        "\n",
        "Estas conclusiones ayudan a entender mejor el comportamiento de uso de los diferentes tipos de ciclistas y pueden guiar el diseño de estrategias de marketing para aumentar la cantidad de membresías anuales, clave para el crecimiento futuro de Cyclistic."
      ],
      "metadata": {
        "id": "0vJMor_QROa3"
      }
    },
    {
      "cell_type": "markdown",
      "source": [
        "2.  *Gráfico de barras* de duración media del viaje"
      ],
      "metadata": {
        "id": "rQGTuKrB9HRZ"
      }
    },
    {
      "cell_type": "code",
      "source": [
        "# Creemos una visualización de duración promedio por member_casual y dia de la semana\n",
        "datos %>%\n",
        "  mutate(weekday = wday(started_at, label = TRUE)) %>%\n",
        "  group_by(member_casual, weekday) %>%\n",
        "  summarise(number_of_rides = n(),\n",
        "            average_duration = mean(ride_length)) %>%\n",
        "  arrange(member_casual, weekday) %>%\n",
        "  ggplot(aes(x = weekday, y = average_duration, fill = member_casual)) +\n",
        "  geom_col(position = \"dodge\") +\n",
        "  geom_text(aes(label = round(average_duration, 1)),\n",
        "            position = position_dodge(width = 0.9),\n",
        "            vjust = -0.5) +\n",
        "  labs(title = \"Average Trip Duration by member_casual and Weekday\",\n",
        "       x = \"Weekday\",\n",
        "       y = \"Average Duration (minutes)\",\n",
        "       fill = \"Member_casual\") +\n",
        "  theme_minimal() +\n",
        "  theme(\n",
        "    plot.title = element_text(hjust = 0.5, size = 16, face = \"bold\"),\n",
        "    axis.title = element_text(size = 14),\n",
        "    axis.text = element_text(size = 12),\n",
        "    legend.title = element_text(size = 14),\n",
        "    legend.text = element_text(size = 12)\n",
        "  )\n"
      ],
      "metadata": {
        "colab": {
          "base_uri": "https://localhost:8080/",
          "height": 472
        },
        "id": "z5gL5swKUnfb",
        "outputId": "8ecf9db3-87ba-49db-f4de-96c3a41dc88e"
      },
      "execution_count": null,
      "outputs": [
        {
          "output_type": "stream",
          "name": "stderr",
          "text": [
            "\u001b[1m\u001b[22m`summarise()` has grouped output by 'member_casual'. You can override using the\n",
            "`.groups` argument.\n"
          ]
        },
        {
          "output_type": "display_data",
          "data": {
            "text/plain": [
              "plot without title"
            ],
            "image/png": "[encoded data removed]"
          },
          "metadata": {
            "image/png": {
              "width": 420,
              "height": 420
            }
          }
        }
      ]
    },
    {
      "cell_type": "markdown",
      "source": [
        "###Conclusiones:\n",
        "\n",
        "En general, los miembros anuales tienen viajes en bicicleta más largos que los ciclistas ocasionales.\n",
        "- La diferencia en la duración del viaje es mayor los fines de semana (sábado y domingo) que entre semana.\n",
        "- El día de la semana con la mayor duración promedio de viaje para los miembros anuales es el domingo, con 129.777 segundos\n",
        "- El día de la semana con la menor duración promedio de viaje para los miembros anuales es el lunes, con 55.326 segundos.\n",
        "- El día de la semana con la mayor duración promedio de viaje para los ciclistas ocasionales es el domingo, con 79.056 segundos\n",
        "- El día de la semana con la menor duración promedio de viaje para los ciclistas ocasionales es el lunes, con 28.032 segundos."
      ],
      "metadata": {
        "id": "u9xeiU9_V9td"
      }
    },
    {
      "cell_type": "markdown",
      "source": [
        "## Conclusiones Generales\n",
        "\n",
        "En base al análisis realizado, se pueden destacar las siguientes conclusiones:\n",
        "\n",
        "1.  Para el *Gráfico de barras* del número de viajes por tipo de ciclista\n",
        "\n",
        " -   La distribución de los viajes en bicicletas para un ciclista miembro sugiere que la mayoría de los viajes se encuentran en la mitad de semana en el rango que contempla de [martes, jueves].\n",
        "\n",
        " -   Al observar el gráfico de barras, se puede notar que donde se presenta el mayor número de viajes en bicicletas para un ciclista miembro son los días miercoles ya que tiene la barra más alta.\n",
        "\n",
        " -   Al observar el gráfico de barras, se denota un crecimiento en los números de los viajes de los ciclistas casuales desde el lunes hasta el día sabado, pero aún así son menores los viajes que los ciclistas miembros.\n",
        "\n",
        " -   Los miembros utilizan las bicicletas de manera más constante a lo largo de la semana, mientras que los ciclistas casuales podrían preferir los fines de semana (Sabado, Domingo).\n",
        "\n",
        " -   Los miembros sean más activos durante los días laborables, mientras que los ciclistas casuales podrían tener un mayor número de viajes los fines de semana.\n",
        "\n",
        "2.  Para el *Gráfico de barras* de duración media del viaje\n",
        "\n",
        " -   Al observar el gráfico de barras, se puede notar que donde se presenta la mayor duración media del viaje en bicicletas para un ciclista casual son los días miercoles ya que tiene la barra más alta. En cambio, la mayor duración media del viaje en biciletas para un ciclista miembro lo es el día sabado.\n",
        "\n",
        " -   Se puede inferir que los miembros tengan viajes más cortos en días laborables debido a su uso regular y predecible de las bicicletas, mientras que los ciclistas casuales podrían tener viajes más largos durante los fines de semana, además de sus días libres.\n",
        "\n",
        " -   Los ciclistas causales tienden a tener viajes más largos los días miercoles , por lo que podría influir en la programación de mantenimiento o en la distribución de bicicletas."
      ],
      "metadata": {
        "id": "dCmi4cm49HRa"
      }
    },
    {
      "cell_type": "markdown",
      "source": [
        "## Recomendaciones\n",
        "\n",
        "1.  ***Promociones Estratégicas***: Consiste en ofrecer promociones o descuentos especiales a los ciclistas ocasionales que se inscriban como miembros anuales.\n",
        "    -   Estas promociones podrían ser limitadas en el tiempo para generar un sentido de urgencia y fomentar la conversión\n",
        "    -   Estas promociones específicas son con el fin de atraer a más miembros durante los días en el que los ciclistas causales tienen viajes más largos, considerando lo anterior, estos días serían:\n",
        "        -   Miércoles\n",
        "        -   Sábado\n",
        "\n",
        "2.  ***Planificación y asignación de recursos***: Se sabe que la comprensión de los patrones de uso ayudaría a la empresa a asignar recursos de manera más eficiente. Si se sabe que hay un aumento en la demanda de bicicletas en ciertos días, podrían programar el mantenimiento o la redistribución de bicicletas en consecuencia. Lo que sería implicado para los siguientes días:\n",
        "\n",
        "    -   Lunes\n",
        "    -   Martes\n",
        "    -   Miércoles\n",
        "    -   Jueves\n",
        "    -   Viernes\n",
        "\n",
        "    Destacar que estos días son especificamente dada las altas cantidad de viajes realizados por semana.\n",
        "\n",
        "    Por otro lado, desde el ***punto de vista de la duración promedio en el viaje.*** El día con mayor uso de la bicicleta sería el día miércoles, al presentarse un viaje largo se podría asegurar que haya suficientes bicicletas disponibles en las áreas correspondientes para satisfacer la demanda.\n",
        "\n",
        "3.  ***Beneficios para Miembros Anuales***: Consiste en destacar claramente los beneficios exclusivos que los miembros anuales reciben, como tarifas reducidas por viaje, acceso prioritario a bicicletas, estacionamiento garantizado, ofertas especiales y más. Mostrar cómo estos beneficios pueden ahorrar dinero y tiempo a largo plazo.\n",
        "\n",
        "4.  ***Programas de Fidelización***: Referido a implementar un programa de recompensas o puntos para los miembros anuales, donde puedan ganar premios o descuentos adicionales a medida que aumenten su uso y antigüedad en el programa.\n",
        "\n",
        "\n",
        "\n"
      ],
      "metadata": {
        "id": "CXdZKojt9HRa"
      }
    }
  ]
}